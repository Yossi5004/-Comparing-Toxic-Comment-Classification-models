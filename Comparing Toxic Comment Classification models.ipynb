{
 "cells": [
  {
   "attachments": {},
   "cell_type": "markdown",
   "metadata": {},
   "source": [
    "<font size=\"6\">**Comparing Toxic Comment Classification models- One Shot, Zero Shot, Few Shot and Fine Tuning**</font> <br>\n",
    "<font size=\"5\">Yosef Cohen - 312344831"
   ]
  },
  {
   "cell_type": "code",
   "execution_count": 23,
   "metadata": {},
   "outputs": [],
   "source": [
    "import pandas as pd\n",
    "import os\n",
    "from torch.utils.data import Dataset as Dataset\n",
    "from torch.utils import data as data\n",
    "import torch\n",
    "import matplotlib.pyplot as plt\n",
    "import seaborn as sns\n",
    "from torch.nn import functional as F\n",
    "import torch.nn as nn\n",
    "import torch.optim as optim\n",
    "from transformers import pipeline\n",
    "from tqdm import tqdm\n",
    "from tqdm import notebook\n",
    "import openai\n",
    "import numpy as np\n",
    "from sklearn.metrics import classification_report, roc_auc_score\n",
    "from clearml import Task, Logger, OutputModel"
   ]
  },
  {
   "attachments": {},
   "cell_type": "markdown",
   "metadata": {},
   "source": [
    "<font size=\"6\">**Define GPU support**</font>"
   ]
  },
  {
   "cell_type": "code",
   "execution_count": 24,
   "metadata": {},
   "outputs": [
    {
     "name": "stdout",
     "output_type": "stream",
     "text": [
      "NVIDIA GeForce RTX 3080 Ti\n"
     ]
    }
   ],
   "source": [
    "# Define GPU support\n",
    "torch.cuda.empty_cache()\n",
    "device = torch.device('cuda' if torch.cuda.is_available() else 'cpu')\n",
    "print(torch.cuda.get_device_name())"
   ]
  },
  {
   "attachments": {},
   "cell_type": "markdown",
   "metadata": {},
   "source": [
    "<font size=\"6\">**Show some samples of the data**</font><br>\n",
    "1. Define path to train csv file.<br>\n",
    "2. Loading the data from folders.<br>"
   ]
  },
  {
   "cell_type": "code",
   "execution_count": 25,
   "metadata": {},
   "outputs": [
    {
     "data": {
      "text/html": [
       "<div>\n",
       "<style scoped>\n",
       "    .dataframe tbody tr th:only-of-type {\n",
       "        vertical-align: middle;\n",
       "    }\n",
       "\n",
       "    .dataframe tbody tr th {\n",
       "        vertical-align: top;\n",
       "    }\n",
       "\n",
       "    .dataframe thead th {\n",
       "        text-align: right;\n",
       "    }\n",
       "</style>\n",
       "<table border=\"1\" class=\"dataframe\">\n",
       "  <thead>\n",
       "    <tr style=\"text-align: right;\">\n",
       "      <th></th>\n",
       "      <th>id</th>\n",
       "      <th>comment_text</th>\n",
       "      <th>toxic</th>\n",
       "      <th>severe_toxic</th>\n",
       "      <th>obscene</th>\n",
       "      <th>threat</th>\n",
       "      <th>insult</th>\n",
       "      <th>identity_hate</th>\n",
       "    </tr>\n",
       "  </thead>\n",
       "  <tbody>\n",
       "    <tr>\n",
       "      <th>0</th>\n",
       "      <td>0000997932d777bf</td>\n",
       "      <td>Explanation\\nWhy the edits made under my usern...</td>\n",
       "      <td>0</td>\n",
       "      <td>0</td>\n",
       "      <td>0</td>\n",
       "      <td>0</td>\n",
       "      <td>0</td>\n",
       "      <td>0</td>\n",
       "    </tr>\n",
       "    <tr>\n",
       "      <th>1</th>\n",
       "      <td>000103f0d9cfb60f</td>\n",
       "      <td>D'aww! He matches this background colour I'm s...</td>\n",
       "      <td>0</td>\n",
       "      <td>0</td>\n",
       "      <td>0</td>\n",
       "      <td>0</td>\n",
       "      <td>0</td>\n",
       "      <td>0</td>\n",
       "    </tr>\n",
       "    <tr>\n",
       "      <th>2</th>\n",
       "      <td>000113f07ec002fd</td>\n",
       "      <td>Hey man, I'm really not trying to edit war. It...</td>\n",
       "      <td>0</td>\n",
       "      <td>0</td>\n",
       "      <td>0</td>\n",
       "      <td>0</td>\n",
       "      <td>0</td>\n",
       "      <td>0</td>\n",
       "    </tr>\n",
       "    <tr>\n",
       "      <th>3</th>\n",
       "      <td>0001b41b1c6bb37e</td>\n",
       "      <td>\"\\nMore\\nI can't make any real suggestions on ...</td>\n",
       "      <td>0</td>\n",
       "      <td>0</td>\n",
       "      <td>0</td>\n",
       "      <td>0</td>\n",
       "      <td>0</td>\n",
       "      <td>0</td>\n",
       "    </tr>\n",
       "    <tr>\n",
       "      <th>4</th>\n",
       "      <td>0001d958c54c6e35</td>\n",
       "      <td>You, sir, are my hero. Any chance you remember...</td>\n",
       "      <td>0</td>\n",
       "      <td>0</td>\n",
       "      <td>0</td>\n",
       "      <td>0</td>\n",
       "      <td>0</td>\n",
       "      <td>0</td>\n",
       "    </tr>\n",
       "  </tbody>\n",
       "</table>\n",
       "</div>"
      ],
      "text/plain": [
       "                 id                                       comment_text  toxic  \\\n",
       "0  0000997932d777bf  Explanation\\nWhy the edits made under my usern...      0   \n",
       "1  000103f0d9cfb60f  D'aww! He matches this background colour I'm s...      0   \n",
       "2  000113f07ec002fd  Hey man, I'm really not trying to edit war. It...      0   \n",
       "3  0001b41b1c6bb37e  \"\\nMore\\nI can't make any real suggestions on ...      0   \n",
       "4  0001d958c54c6e35  You, sir, are my hero. Any chance you remember...      0   \n",
       "\n",
       "   severe_toxic  obscene  threat  insult  identity_hate  \n",
       "0             0        0       0       0              0  \n",
       "1             0        0       0       0              0  \n",
       "2             0        0       0       0              0  \n",
       "3             0        0       0       0              0  \n",
       "4             0        0       0       0              0  "
      ]
     },
     "execution_count": 25,
     "metadata": {},
     "output_type": "execute_result"
    }
   ],
   "source": [
    "data_path = os.path.join('data', 'train.csv')\n",
    "train_data = pd.read_csv(data_path)\n",
    "train_data.head()"
   ]
  },
  {
   "attachments": {},
   "cell_type": "markdown",
   "metadata": {},
   "source": [
    "<font size=\"6\">**Count the number of samples of each class**</font>"
   ]
  },
  {
   "cell_type": "code",
   "execution_count": 26,
   "metadata": {},
   "outputs": [],
   "source": [
    "def count_labels(train_data, title):\n",
    "    \"\"\"count the number of samples of each class for the entire dataset and print a distribution chart.\n",
    "\n",
    "    Parameters\n",
    "    ----------\n",
    "    train_data : pandas data frame\n",
    "        The data we want to count.\n",
    "    title : string\n",
    "        The title of the chart.\n",
    "\n",
    "    Returns\n",
    "    -------\n",
    "    None\n",
    "    \"\"\"\n",
    "    plt.figure(figsize=(10,7), dpi=100)\n",
    "    x_labels = list(train_data.columns[2:])\n",
    "    x_labels.append('not toxic')\n",
    "    y_label = train_data.values[:,2:].sum(axis=0)\n",
    "    y_label = np.append(y_label, (len(train_data) - y_label[0]))\n",
    "    plt.bar(x_labels, y_label, alpha=0.85)\n",
    "    plt.xlabel('Class')\n",
    "    plt.ylabel('Frequency')\n",
    "    plt.title(title)"
   ]
  },
  {
   "cell_type": "code",
   "execution_count": 27,
   "metadata": {},
   "outputs": [
    {
     "data": {
      "image/png": "[encoded data removed]",
      "text/plain": [
       "<Figure size 1000x700 with 1 Axes>"
      ]
     },
     "metadata": {},
     "output_type": "display_data"
    }
   ],
   "source": [
    "count_labels(train_data, 'Number of comments per each class label')"
   ]
  },
  {
   "attachments": {},
   "cell_type": "markdown",
   "metadata": {},
   "source": [
    "<font size=\"6\">**Define Toxic Comments Dataset class**</font> <br>"
   ]
  },
  {
   "cell_type": "code",
   "execution_count": 28,
   "metadata": {},
   "outputs": [],
   "source": [
    "class CommentsDataSet(Dataset):\n",
    "    \"\"\"Comments Dataset\"\"\"\n",
    "\n",
    "    def __init__(self, csv_file_dir):\n",
    "        \"\"\"\n",
    "        Arguments:\n",
    "            csv_file_dir (string): Path to the csv file.\n",
    "\n",
    "        \"\"\"\n",
    "        # read csv file and load data\n",
    "        self.df_data = pd.read_csv(csv_file_dir)\n",
    "        self.x_train = self.df_data['comment_text']\n",
    "        self.y_train = self.df_data[self.df_data.columns[2:]]\n",
    "    \n",
    "    def __len__(self):\n",
    "        \"\"\"\n",
    "        get dataset length.\n",
    "\n",
    "        \"\"\"\n",
    "        return len(self.x_train)\n",
    "    \n",
    "    def __getitem__(self, index):\n",
    "        \"\"\"\n",
    "        Arguments:\n",
    "            index (int): comment number.\n",
    "\n",
    "        \"\"\"\n",
    "        return self.x_train[index], np.array(self.y_train.iloc[index])\n",
    "    \n",
    "    def labels(self):\n",
    "        \"\"\"\n",
    "        get dataset labels.\n",
    "\n",
    "        \"\"\"\n",
    "        return self.df_data.columns[2:].to_list()\n",
    "\n"
   ]
  },
  {
   "attachments": {},
   "cell_type": "markdown",
   "metadata": {},
   "source": [
    "<font size=\"6\">**Loading the dataset**</font><br>\n",
    "1. Split the dataset to training and few shot dataset for generating examples.<br>\n",
    "2. 200 samples for testing.\n",
    "3. Encapsulate the data into dataloader form."
   ]
  },
  {
   "cell_type": "code",
   "execution_count": 29,
   "metadata": {},
   "outputs": [],
   "source": [
    "train_dataset_full = CommentsDataSet(data_path)\n",
    "num_samples = 200\n",
    "\n",
    "dataset_size = len(train_dataset_full)\n",
    "dataset_indices = list(range(dataset_size))\n",
    "np.random.shuffle(dataset_indices)\n",
    "\n",
    "# make balance test dataset\n",
    "toxic_indices = []\n",
    "non_toxic_indices = []\n",
    "few_shot_indices = dataset_indices.copy()\n",
    "\n",
    "for i in dataset_indices:\n",
    "    _, labels = train_dataset_full.__getitem__(i)\n",
    "    if len(toxic_indices) < num_samples//2:\n",
    "        if labels.sum() > 0:\n",
    "            toxic_indices.append(i)\n",
    "            few_shot_indices.remove(i)\n",
    "    \n",
    "    if len(non_toxic_indices) < num_samples//2:\n",
    "        if labels.sum() == 0:\n",
    "            non_toxic_indices.append(i)\n",
    "            few_shot_indices.remove(i)\n",
    "\n",
    "indices = toxic_indices + non_toxic_indices\n",
    "np.random.shuffle(indices)\n",
    "\n",
    "batch_size = 1\n",
    "test_sampler = data.SubsetRandomSampler(indices)\n",
    "train_dataloader = data.DataLoader(train_dataset_full, batch_size=batch_size, sampler=test_sampler, shuffle=False)"
   ]
  },
  {
   "attachments": {},
   "cell_type": "markdown",
   "metadata": {},
   "source": [
    "<font size=\"6\">**GPT-3**</font> <br>\n",
    "<font size=\"5\">Zero Shot learning."
   ]
  },
  {
   "cell_type": "code",
   "execution_count": 227,
   "metadata": {},
   "outputs": [],
   "source": [
    "openai.api_key = (\"your key\")"
   ]
  },
  {
   "attachments": {},
   "cell_type": "markdown",
   "metadata": {},
   "source": [
    "<font size=\"6\">**Zero Shot classify toxic comment function**</font><br>"
   ]
  },
  {
   "cell_type": "code",
   "execution_count": 228,
   "metadata": {},
   "outputs": [],
   "source": [
    "def zero_shot_classify_toxic_comment(comment, labels):\n",
    "    \"\"\"Generate prompt to GPT-3 OpenAI api based on comment and the optional labels.\n",
    "\n",
    "    Parameters\n",
    "    ----------\n",
    "    comment : string\n",
    "        The comment we want to classify.\n",
    "    labels : list of strings\n",
    "        The optional labels.\n",
    "\n",
    "    Returns\n",
    "    -------\n",
    "    answer : string\n",
    "        The chosen labels.\n",
    "    \"\"\"\n",
    "    prompt = f\"Classify the following comment as toxic or not and the types of toxicity: \\n\\n {comment} \\n\\nLabels: {labels}\"\n",
    "    response = openai.Completion.create(\n",
    "        prompt=prompt,\n",
    "        model=\"text-davinci-003\",\n",
    "        temperature=0.3,\n",
    "        max_tokens=256\n",
    "    )\n",
    "    return response.choices[0].text.strip()\n"
   ]
  },
  {
   "attachments": {},
   "cell_type": "markdown",
   "metadata": {},
   "source": [
    "<font size=\"6\">**Show example of comment, answer and true labels**</font><br>"
   ]
  },
  {
   "cell_type": "code",
   "execution_count": 230,
   "metadata": {},
   "outputs": [
    {
     "name": "stdout",
     "output_type": "stream",
     "text": [
      "Comment:\n",
      "I'm also a sock puppet of this account...SUPRISE!!\n",
      "-sincerely,\n",
      "            The man that will track you down from the Internet and kill you\n",
      "###\n",
      "The comment is classified as: Toxic, Severe Toxic, Threat\n",
      "###\n",
      "True labels:\n",
      "toxic            1\n",
      "severe_toxic     0\n",
      "obscene          0\n",
      "threat           1\n",
      "insult           0\n",
      "identity_hate    0\n",
      "Name: 600, dtype: object\n"
     ]
    }
   ],
   "source": [
    "comment, _ = train_dataset_full.__getitem__(600)\n",
    "classification = zero_shot_classify_toxic_comment(comment, train_dataset_full.labels())\n",
    "print(f'Comment:\\n{comment}\\n###')\n",
    "print(f\"The comment is classified as: {classification}\\n###\")\n",
    "print(f'True labels:\\n{train_data.iloc[600].iloc[2:]}')"
   ]
  },
  {
   "attachments": {},
   "cell_type": "markdown",
   "metadata": {},
   "source": [
    "<font size=\"6\">**Convert the predicted labels to array of 0 and 1**</font><br>"
   ]
  },
  {
   "cell_type": "code",
   "execution_count": 30,
   "metadata": {},
   "outputs": [],
   "source": [
    "def convert_pred_to_array(classification, classes):\n",
    "    \"\"\"Convert the predicted labels to array of 0 and 1.\n",
    "\n",
    "    Parameters\n",
    "    ----------\n",
    "    classification : string\n",
    "        The classified labels.\n",
    "    classes : list of strings\n",
    "        The optional labels.\n",
    "\n",
    "    Returns\n",
    "    -------\n",
    "    pred_array : numpy array\n",
    "        Predicted labels array of 0 and 1.\n",
    "    \"\"\"\n",
    "    pred_array = np.zeros(len(classes),dtype=int)\n",
    "    \n",
    "    if 'not toxic' not in classification.lower():\n",
    "        for label in classes:\n",
    "            if label in classification.lower().replace(' ', '_'):\n",
    "                pred_array[classes.index(label)] = 1\n",
    "    \n",
    "    return pred_array"
   ]
  },
  {
   "attachments": {},
   "cell_type": "markdown",
   "metadata": {},
   "source": [
    "<font size=\"6\">**Classification function for Zero Shot**</font><br>"
   ]
  },
  {
   "cell_type": "code",
   "execution_count": 31,
   "metadata": {},
   "outputs": [],
   "source": [
    "def classify(model, train_dataloader):\n",
    "    \"\"\"Classify the comments.\n",
    "\n",
    "    Parameters\n",
    "    ----------\n",
    "    model : the model function.\n",
    "        Zero shot model.\n",
    "    train_dataloader : pytorch dataloader\n",
    "        The comments.\n",
    "\n",
    "    Returns\n",
    "    -------\n",
    "    preds : list\n",
    "        Predicted labels array of 0 and 1.\n",
    "    targets : list\n",
    "        True labels array of 0 and 1.\n",
    "    \"\"\"\n",
    "    preds = []\n",
    "    targets = []\n",
    "    num_samples = len(train_dataloader)\n",
    "    for i, (comment, labels) in tqdm(enumerate(train_dataloader), total=num_samples):\n",
    "        classification = model(comment, train_dataloader.dataset.labels())\n",
    "        pred = convert_pred_to_array(classification, train_dataloader.dataset.labels())\n",
    "        preds.append(pred)\n",
    "        targets.append(labels.numpy())\n",
    "    \n",
    "    return preds, targets"
   ]
  },
  {
   "attachments": {},
   "cell_type": "markdown",
   "metadata": {},
   "source": [
    "<font size=\"6\">**Classify with Zero Shot**</font><br>"
   ]
  },
  {
   "cell_type": "code",
   "execution_count": 234,
   "metadata": {},
   "outputs": [
    {
     "name": "stderr",
     "output_type": "stream",
     "text": [
      "100%|██████████| 200/200 [05:59<00:00,  1.80s/it]\n"
     ]
    }
   ],
   "source": [
    "ZS_gpt3_preds, ZS_gpt3_targets = classify(zero_shot_classify_toxic_comment, train_dataloader)"
   ]
  },
  {
   "cell_type": "code",
   "execution_count": 237,
   "metadata": {},
   "outputs": [],
   "source": [
    "# save the results\n",
    "np.save('preds\\ZS_gpt3_preds.npy', ZS_gpt3_preds)\n",
    "np.save('preds\\ZS_gpt3_targets.npy', ZS_gpt3_targets)"
   ]
  },
  {
   "attachments": {},
   "cell_type": "markdown",
   "metadata": {},
   "source": [
    "<font size=\"6\">**Accuracy function**</font><br>"
   ]
  },
  {
   "cell_type": "code",
   "execution_count": 21,
   "metadata": {},
   "outputs": [],
   "source": [
    "def Accuracy(preds, targets):\n",
    "    \"\"\"Calculate accuracy.\n",
    "\n",
    "    Parameters\n",
    "    ----------\n",
    "    preds : list\n",
    "        Predicted labels array of 0 and 1.\n",
    "    targets : list\n",
    "        True labels array of 0 and 1.\n",
    "\n",
    "    Returns\n",
    "    -------\n",
    "    accuracy : float\n",
    "        Accuracy.\n",
    "    \"\"\"\n",
    "    accuracy = 0\n",
    "    for i in range(len(preds)):\n",
    "        if np.array_equal(np.array(preds)[i] ,np.array(targets).squeeze(1)[i]) == True:\n",
    "            accuracy += 1\n",
    "\n",
    "    accuracy = accuracy / len(preds)\n",
    "\n",
    "    return accuracy"
   ]
  },
  {
   "attachments": {},
   "cell_type": "markdown",
   "metadata": {},
   "source": [
    "<font size=\"6\">**Show accuracy, precision, recall and f1 scores**</font><br>"
   ]
  },
  {
   "cell_type": "code",
   "execution_count": 33,
   "metadata": {},
   "outputs": [
    {
     "name": "stdout",
     "output_type": "stream",
     "text": [
      "Accuracy: 0.485\n",
      "AUC score: 0.7201714674376918\n",
      "\n",
      "               precision    recall  f1-score   support\n",
      "\n",
      "        toxic       0.91      0.76      0.83        97\n",
      " severe_toxic       0.16      0.71      0.26        14\n",
      "      obscene       0.66      0.69      0.67        55\n",
      "       threat       0.05      0.50      0.08         6\n",
      "       insult       0.49      0.78      0.60        49\n",
      "identity_hate       0.09      0.60      0.16        10\n",
      "\n",
      "    micro avg       0.41      0.73      0.52       231\n",
      "    macro avg       0.39      0.67      0.43       231\n",
      " weighted avg       0.66      0.73      0.66       231\n",
      "  samples avg       0.17      0.38      0.22       231\n",
      "\n"
     ]
    }
   ],
   "source": [
    "accuracy = Accuracy(ZS_gpt3_preds, ZS_gpt3_targets)\n",
    "print(f'Accuracy: {accuracy}')\n",
    "AUC_score = roc_auc_score(ZS_gpt3_targets.squeeze(), ZS_gpt3_preds)\n",
    "print(f'AUC score: {AUC_score}\\n')\n",
    "print(classification_report(np.array(ZS_gpt3_targets).squeeze(1), np.array(ZS_gpt3_preds), target_names=train_dataloader.dataset.labels(), zero_division=0))"
   ]
  },
  {
   "attachments": {},
   "cell_type": "markdown",
   "metadata": {},
   "source": [
    "<font size=\"6\">**GPT-3**</font> <br>\n",
    "<font size=\"5\">One Shot learning."
   ]
  },
  {
   "attachments": {},
   "cell_type": "markdown",
   "metadata": {},
   "source": [
    "<font size=\"6\">**One Shot classify toxic comment function**</font><br>"
   ]
  },
  {
   "cell_type": "code",
   "execution_count": 238,
   "metadata": {},
   "outputs": [],
   "source": [
    "def one_shot_classify_toxic_comment(comment, labels, example):\n",
    "    \"\"\"Generate prompt to GPT-3 OpenAI api based on comment, optional labels and one example.\n",
    "\n",
    "    Parameters\n",
    "    ----------\n",
    "    comment : string\n",
    "        The comment we want to classify.\n",
    "    labels : list of strings\n",
    "        The optional labels.\n",
    "    example : string\n",
    "        comment with true labels.\n",
    "\n",
    "    Returns\n",
    "    -------\n",
    "    answer : string\n",
    "        The chosen labels.\n",
    "    \"\"\"\n",
    "    prompt = f\"Classify the following comment as toxic or not and the types of toxicity. \\nWith the following labels: {labels} \\n\\nFor example:\\n{example} \\n\\nComment to classify:\\n{comment}\"\n",
    "    response = openai.Completion.create(\n",
    "        prompt=prompt,\n",
    "        model=\"text-davinci-003\",\n",
    "        temperature=0.3,\n",
    "        max_tokens=256\n",
    "    )\n",
    "    return response.choices[0].text.strip()"
   ]
  },
  {
   "attachments": {},
   "cell_type": "markdown",
   "metadata": {},
   "source": [
    "<font size=\"6\">**Generate example function**</font><br>"
   ]
  },
  {
   "cell_type": "code",
   "execution_count": 255,
   "metadata": {},
   "outputs": [],
   "source": [
    "def generate_example(train_dataset, index):\n",
    "    \"\"\"Generate comment example with the true labels.\n",
    "\n",
    "    Parameters\n",
    "    ----------\n",
    "    train_dataset : dataset\n",
    "        The comments dataset.\n",
    "    index : int\n",
    "        The comment index.\n",
    "\n",
    "    Returns\n",
    "    -------\n",
    "    example : string\n",
    "        comment with true labels.\n",
    "    \"\"\"\n",
    "    labels = train_dataset.labels()\n",
    "    example_comment , tar = train_dataset.__getitem__(index)\n",
    "    example_labels = 'Labels:'\n",
    "    for i in range(len(tar)):\n",
    "        if tar[i] == 1:\n",
    "            example_labels += f' {labels[i]},'\n",
    "\n",
    "    if example_labels == 'Labels:':\n",
    "        example_labels += ' not toxic.'\n",
    "    else:\n",
    "        example_labels = list(example_labels)\n",
    "        example_labels[-1] = '.'\n",
    "        example_labels = \"\".join(example_labels)\n",
    "\n",
    "    example = f'Comment: {example_comment}\\n{example_labels}'\n",
    "    \n",
    "    return example"
   ]
  },
  {
   "attachments": {},
   "cell_type": "markdown",
   "metadata": {},
   "source": [
    "<font size=\"6\">**Show example of prompt and answer**</font><br>"
   ]
  },
  {
   "cell_type": "code",
   "execution_count": 244,
   "metadata": {},
   "outputs": [
    {
     "name": "stdout",
     "output_type": "stream",
     "text": [
      "Classify the following comment as toxic or not and the types of toxicity. \n",
      "With the following labels: ['toxic', 'severe_toxic', 'obscene', 'threat', 'insult', 'identity_hate'] \n",
      "\n",
      "For example:\n",
      "Comment: COCKSUCKER BEFORE YOU PISS AROUND ON MY WORK\n",
      "Labels: toxic, severe_toxic, obscene, insult. \n",
      "\n",
      "Comment to classify:\n",
      "Are you fucker mother fucker have nothing to do but block University computers. Go and suck cocks\n"
     ]
    },
    {
     "data": {
      "text/plain": [
       "'Toxic, severe_toxic, obscene, insult, identity_hate.'"
      ]
     },
     "execution_count": 244,
     "metadata": {},
     "output_type": "execute_result"
    }
   ],
   "source": [
    "example = generate_example(train_dataset_full, 6)\n",
    "labels = train_dataset_full.labels()\n",
    "comment , _ = train_dataset_full.__getitem__(602)\n",
    "print(f\"Classify the following comment as toxic or not and the types of toxicity. \\nWith the following labels: {labels} \\n\\nFor example:\\n{example} \\n\\nComment to classify:\\n{comment}\")\n",
    "one_shot_classify_toxic_comment(comment, labels, example)"
   ]
  },
  {
   "attachments": {},
   "cell_type": "markdown",
   "metadata": {},
   "source": [
    "<font size=\"6\">**Classification function for One Shot**</font><br>"
   ]
  },
  {
   "cell_type": "code",
   "execution_count": 246,
   "metadata": {},
   "outputs": [],
   "source": [
    "def classify_OS(model, train_dataloader, example):\n",
    "    \"\"\"Classify the comments.\n",
    "\n",
    "    Parameters\n",
    "    ----------\n",
    "    model : the model function.\n",
    "        Zero shot model.\n",
    "    train_dataloader : pytorch dataloader\n",
    "        The comments.\n",
    "    example : string\n",
    "        comment with true labels.\n",
    "\n",
    "    Returns\n",
    "    -------\n",
    "    preds : list\n",
    "        Predicted labels array of 0 and 1.\n",
    "    targets : list\n",
    "        True labels array of 0 and 1.\n",
    "    \"\"\"\n",
    "    preds = []\n",
    "    targets = []\n",
    "    num_samples = len(train_dataloader)\n",
    "    for i, (comment, labels) in tqdm(enumerate(train_dataloader), total=num_samples):\n",
    "        classification = model(comment, train_dataloader.dataset.labels(), example)\n",
    "        pred = convert_pred_to_array(classification, train_dataloader.dataset.labels())\n",
    "        preds.append(pred)\n",
    "        targets.append(labels.numpy())\n",
    "    \n",
    "    return preds, targets"
   ]
  },
  {
   "attachments": {},
   "cell_type": "markdown",
   "metadata": {},
   "source": [
    "<font size=\"6\">**Classify with One Shot**</font><br>"
   ]
  },
  {
   "cell_type": "code",
   "execution_count": 247,
   "metadata": {},
   "outputs": [
    {
     "name": "stderr",
     "output_type": "stream",
     "text": [
      "100%|██████████| 200/200 [04:36<00:00,  1.38s/it]\n"
     ]
    }
   ],
   "source": [
    "example = generate_example(train_dataset_full, 6)\n",
    "OS_gpt3_preds, OS_gpt3_targets = classify_OS(one_shot_classify_toxic_comment, train_dataloader, example)"
   ]
  },
  {
   "cell_type": "code",
   "execution_count": 270,
   "metadata": {},
   "outputs": [],
   "source": [
    "# save the results\n",
    "np.save('preds\\OS_gpt3_preds.npy', OS_gpt3_preds)\n",
    "np.save('preds\\OS_gpt3_targets.npy', OS_gpt3_targets)"
   ]
  },
  {
   "attachments": {},
   "cell_type": "markdown",
   "metadata": {},
   "source": [
    "<font size=\"6\">**Show accuracy, precision, recall and f1 scores**</font><br>"
   ]
  },
  {
   "cell_type": "code",
   "execution_count": 36,
   "metadata": {},
   "outputs": [
    {
     "name": "stdout",
     "output_type": "stream",
     "text": [
      "Accuracy: 0.525\n",
      "AUC score: 0.8416608672121105\n",
      "\n",
      "               precision    recall  f1-score   support\n",
      "\n",
      "        toxic       0.94      0.70      0.80        97\n",
      " severe_toxic       0.27      0.86      0.41        14\n",
      "      obscene       0.85      0.51      0.64        55\n",
      "       threat       0.50      1.00      0.67         6\n",
      "       insult       0.54      0.80      0.64        49\n",
      "identity_hate       0.38      0.80      0.52        10\n",
      "\n",
      "    micro avg       0.63      0.70      0.66       231\n",
      "    macro avg       0.58      0.78      0.61       231\n",
      " weighted avg       0.76      0.70      0.69       231\n",
      "  samples avg       0.23      0.31      0.25       231\n",
      "\n"
     ]
    }
   ],
   "source": [
    "OS_gpt3_accuracy = Accuracy(OS_gpt3_preds, OS_gpt3_targets)\n",
    "print(f'Accuracy: {OS_gpt3_accuracy}')\n",
    "AUC_score = roc_auc_score(OS_gpt3_targets.squeeze(), OS_gpt3_preds)\n",
    "print(f'AUC score: {AUC_score}\\n')\n",
    "print(classification_report(np.array(OS_gpt3_targets).squeeze(1), np.array(OS_gpt3_preds), target_names=train_dataloader.dataset.labels(), zero_division=0))"
   ]
  },
  {
   "attachments": {},
   "cell_type": "markdown",
   "metadata": {},
   "source": [
    "<font size=\"6\">**GPT-3**</font> <br>\n",
    "<font size=\"5\">Few Shot learning."
   ]
  },
  {
   "attachments": {},
   "cell_type": "markdown",
   "metadata": {},
   "source": [
    "<font size=\"6\">**Generate examples function**</font><br>"
   ]
  },
  {
   "cell_type": "code",
   "execution_count": 416,
   "metadata": {},
   "outputs": [],
   "source": [
    "def generate_examples(train_dataset_full, few_shot_indices, num_ex):\n",
    "    \"\"\"Generate comment examples with the true labels.\n",
    "\n",
    "    Parameters\n",
    "    ----------\n",
    "    train_dataset_full : dataset\n",
    "        The comments dataset.\n",
    "    few_shot_indices : list\n",
    "        indexes\n",
    "    num_ex : int\n",
    "        The number of examples to generate.\n",
    "\n",
    "    Returns\n",
    "    -------\n",
    "    examples : string\n",
    "        comments with true labels.\n",
    "    \"\"\"\n",
    "    examples_toxic = []\n",
    "    examples_not_toxic = []\n",
    "    examples_list = []\n",
    "    for i in few_shot_indices:\n",
    "        ex = generate_example(train_dataset_full, i)\n",
    "        if 'not toxic' in ex:\n",
    "            if len(examples_not_toxic) < num_ex//2:\n",
    "                examples_not_toxic.append(ex)\n",
    "        else:\n",
    "            if len(examples_toxic) < num_ex//2:\n",
    "                examples_toxic.append(ex)\n",
    "\n",
    "    examples_list = examples_toxic + examples_not_toxic\n",
    "    \n",
    "    examples = ''\n",
    "    for ex in examples_list:\n",
    "        examples += f'{ex}\\n\\n'\n",
    "    \n",
    "    return examples"
   ]
  },
  {
   "attachments": {},
   "cell_type": "markdown",
   "metadata": {},
   "source": [
    "<font size=\"6\">**Few Shot classify toxic comment function**</font><br>"
   ]
  },
  {
   "cell_type": "code",
   "execution_count": 262,
   "metadata": {},
   "outputs": [],
   "source": [
    "def few_shot_classify_toxic_comment(comment, labels, examples):\n",
    "    \"\"\"Generate prompt to GPT-3 OpenAI api based on comment, optional labels and one examples.\n",
    "\n",
    "    Parameters\n",
    "    ----------\n",
    "    comment : string\n",
    "        The comment we want to classify.\n",
    "    labels : list of strings\n",
    "        The optional labels.\n",
    "    examples : string\n",
    "        comments with true labels.\n",
    "\n",
    "    Returns\n",
    "    -------\n",
    "    answer : string\n",
    "        The chosen labels.\n",
    "    \"\"\"\n",
    "    prompt = f\"Classify the following comment as toxic or not and the types of toxicity. \\nWith the following labels: {labels} \\n\\nFor example:\\n{examples}Comment to classify:\\n{comment}\\n\"\n",
    "    response = openai.Completion.create(\n",
    "        prompt=prompt,\n",
    "        model=\"text-davinci-003\",\n",
    "        temperature=0.3,\n",
    "        max_tokens=256\n",
    "    )\n",
    "    \n",
    "    return response.choices[0].text.strip()"
   ]
  },
  {
   "attachments": {},
   "cell_type": "markdown",
   "metadata": {},
   "source": [
    "<font size=\"6\">**Show example of prompt and answer**</font><br>"
   ]
  },
  {
   "cell_type": "code",
   "execution_count": 263,
   "metadata": {},
   "outputs": [
    {
     "name": "stdout",
     "output_type": "stream",
     "text": [
      "Classify the following comment as toxic or not and the types of toxicity. \n",
      "With the following labels: ['toxic', 'severe_toxic', 'obscene', 'threat', 'insult', 'identity_hate'] \n",
      "\n",
      "For example:\n",
      "Comment: Here is the problem with your argument.  As you stated on IRC:\n",
      "This isn't about deletionism or inclusionism, it's about you being an asshole to people who disagree with you.\n",
      "Labels: toxic.\n",
      "\n",
      "Comment: IT IS OBVIOUS YOU DO NOT GIVE A CRAP ABOUT ACTUALLY HAVING A NEUTRAL ENCYCLOPEDIA OR BOTHERING TO CHECK THE FUCKING SOURCES.\n",
      "Labels: toxic, obscene.\n",
      "\n",
      "Comment: Silly is you who supports his wife and kids at the expense of laundering something that is poisonous to other families. Your family must be really proud of you. Your recent comments only further prove that you are a bought-out shill, who has no dignity and will launder anything for money... to support his family. But there are other, more dignifying, means to put your ph.d towards, mr. 'medicinal' chemist. I wonder why you emphasize 'medicinal'. Perhaps because you could never get an MD. ) LOL at 'medicinal' chemist. Btw, it's called serotoninergic 5-HT1A receptor.\n",
      "Labels: toxic.\n",
      "\n",
      "Comment: Just delete my account you faggot!\n",
      "Labels: toxic.\n",
      "\n",
      "Comment: he is a  real bastard  . he is a spy of Pinarayi and  doing work for  pinarayi  . oneday  the people  will realise this . Who he  is ? is he a  military officer to save the nation ? or a scientist ? or a farmer? who is he real bastard\n",
      "Labels: toxic, severe_toxic, obscene, insult.\n",
      "\n",
      "Comment: The Billy the Kid article with my contributions has been vandalized on or about Dec. 14, 2015 by someone calling themselves KrakatoaKatie. What had been the most detailed, and accurate account of Billy the Kid's life has been replaced with pure garbage. I ask every to look at the last version I submitted one concerned and compare it to what it has been replaced with. I ask anyone who is knowledgeable about the subject, and who doesn't have some sort of agenda, to take a look at what has happened and let your feeling be known. Thank you.\n",
      "Labels: not toxic.\n",
      "\n",
      "Comment: 07:48, 6 June 2007(signature added by  )\n",
      "Labels: not toxic.\n",
      "\n",
      "Comment: The pelican picture is better at conveying the simple idea of what is happening. A photo of the gushing oil underwater, if one was available in HD would be best.\n",
      "Labels: not toxic.\n",
      "\n",
      "Comment: The following must be noted \n",
      "\n",
      "'Insecurity' has become a taunt and a term of abuse, if you dislike gays you'll be called insecure about your sexuality, if you get offended when someone insults your mother or your father you're 'insecure about parental devotion', I personally don't get offended about insults concerning my parents, but that doesn't mean because the next man does that he is insecure.\n",
      "Labels: not toxic.\n",
      "\n",
      "Comment: \"\n",
      "\n",
      "Actually, a producer on Superman homepage seemed to imply that the continuity is a mixture of Smallville and the movies. The producer said \"\"We won't be dealing with Superman's origin, because if you're under 30, Smallville is your origin story, and if your over 30, the Christopher Reeve movies are your origin story.\"\" Plus, this version of Lex seems to be closer to Mike Rosenbaum than Gene Hackman.\"\n",
      "Labels: not toxic.\n",
      "\n",
      "Comment to classify:\n",
      "I'm also a sock puppet of this account...SUPRISE!!\n",
      "-sincerely,\n",
      "            The man that will track you down from the Internet and kill you\n",
      "\n"
     ]
    },
    {
     "data": {
      "text/plain": [
       "'Labels: toxic, threat.'"
      ]
     },
     "execution_count": 263,
     "metadata": {},
     "output_type": "execute_result"
    }
   ],
   "source": [
    "examples = generate_examples(train_dataset_full, few_shot_indices, 10)\n",
    "labels = train_dataloader.dataset.labels()\n",
    "comment , _ = train_dataset_full.__getitem__(600)\n",
    "print(f\"Classify the following comment as toxic or not and the types of toxicity. \\nWith the following labels: {labels} \\n\\nFor example:\\n{examples}Comment to classify:\\n{comment}\\n\")\n",
    "few_shot_classify_toxic_comment(comment, labels, examples)"
   ]
  },
  {
   "attachments": {},
   "cell_type": "markdown",
   "metadata": {},
   "source": [
    "<font size=\"6\">**Classification function for Few Shot**</font><br>"
   ]
  },
  {
   "cell_type": "code",
   "execution_count": 266,
   "metadata": {},
   "outputs": [],
   "source": [
    "def classify_FS(model, train_dataloader, train_dataset_full, few_shot_indices):\n",
    "    \"\"\"Classify the comments with random examples.\n",
    "\n",
    "    Parameters\n",
    "    ----------\n",
    "    model : the model function.\n",
    "        Zero shot model.\n",
    "    train_dataloader : pytorch dataloader\n",
    "        The comments.\n",
    "    train_dataset_full : dataset\n",
    "        The comments dataset.\n",
    "    few_shot_indices : list\n",
    "        indexes\n",
    "\n",
    "    Returns\n",
    "    -------\n",
    "    preds : list\n",
    "        Predicted labels array of 0 and 1.\n",
    "    targets : list\n",
    "        True labels array of 0 and 1.\n",
    "    \"\"\"\n",
    "    preds = []\n",
    "    targets = []\n",
    "    num_samples = len(train_dataloader)\n",
    "    for i, (comment, labels) in tqdm(enumerate(train_dataloader), total=num_samples):\n",
    "        examples = generate_examples(train_dataset_full, few_shot_indices, 10)\n",
    "        classification = model(comment, train_dataloader.dataset.labels(), examples)\n",
    "        pred = convert_pred_to_array(classification, train_dataloader.dataset.labels())\n",
    "        preds.append(pred)\n",
    "        targets.append(labels.numpy())\n",
    "    \n",
    "    return preds, targets"
   ]
  },
  {
   "attachments": {},
   "cell_type": "markdown",
   "metadata": {},
   "source": [
    "<font size=\"6\">**Classify with Few Shot**</font><br>"
   ]
  },
  {
   "cell_type": "code",
   "execution_count": 267,
   "metadata": {},
   "outputs": [
    {
     "name": "stderr",
     "output_type": "stream",
     "text": [
      "100%|██████████| 200/200 [16:45<00:00,  5.03s/it]\n"
     ]
    }
   ],
   "source": [
    "FS_gpt3_preds, FS_gpt3_targets = classify_FS(few_shot_classify_toxic_comment, train_dataloader, train_dataset_full, few_shot_indices)"
   ]
  },
  {
   "cell_type": "code",
   "execution_count": 269,
   "metadata": {},
   "outputs": [],
   "source": [
    "# save the results\n",
    "np.save('preds\\FS_gpt3_preds.npy', FS_gpt3_preds)\n",
    "np.save('preds\\FS_gpt3_targets.npy', FS_gpt3_targets)"
   ]
  },
  {
   "attachments": {},
   "cell_type": "markdown",
   "metadata": {},
   "source": [
    "<font size=\"6\">**Show accuracy, precision, recall and f1 scores**</font><br>"
   ]
  },
  {
   "cell_type": "code",
   "execution_count": 38,
   "metadata": {},
   "outputs": [
    {
     "name": "stdout",
     "output_type": "stream",
     "text": [
      "Accuracy: 0.495\n",
      "AUC score: 0.7890931485732678\n",
      "\n",
      "               precision    recall  f1-score   support\n",
      "\n",
      "        toxic       0.84      0.95      0.89        97\n",
      " severe_toxic       0.27      0.50      0.35        14\n",
      "      obscene       0.86      0.45      0.60        55\n",
      "       threat       0.26      1.00      0.41         6\n",
      "       insult       0.47      0.82      0.59        49\n",
      "identity_hate       0.29      0.50      0.37        10\n",
      "\n",
      "    micro avg       0.60      0.76      0.67       231\n",
      "    macro avg       0.50      0.70      0.54       231\n",
      " weighted avg       0.69      0.76      0.69       231\n",
      "  samples avg       0.33      0.39      0.33       231\n",
      "\n"
     ]
    }
   ],
   "source": [
    "FS_gpt3_accuracy = Accuracy(FS_gpt3_preds, FS_gpt3_targets)\n",
    "print(f'Accuracy: {FS_gpt3_accuracy}')\n",
    "AUC_score = roc_auc_score(FS_gpt3_targets.squeeze(), FS_gpt3_preds)\n",
    "print(f'AUC score: {AUC_score}\\n')\n",
    "print(classification_report(np.array(FS_gpt3_targets).squeeze(1), np.array(FS_gpt3_preds), target_names=train_dataloader.dataset.labels(), zero_division=0))"
   ]
  },
  {
   "attachments": {},
   "cell_type": "markdown",
   "metadata": {},
   "source": [
    "<font size=\"6\">**T5**</font> <br>\n",
    "<font size=\"5\">Zero Shot learning."
   ]
  },
  {
   "cell_type": "code",
   "execution_count": 47,
   "metadata": {},
   "outputs": [
    {
     "data": {
      "text/plain": [
       "T5ForConditionalGeneration(\n",
       "  (shared): Embedding(32128, 512)\n",
       "  (encoder): T5Stack(\n",
       "    (embed_tokens): Embedding(32128, 512)\n",
       "    (block): ModuleList(\n",
       "      (0): T5Block(\n",
       "        (layer): ModuleList(\n",
       "          (0): T5LayerSelfAttention(\n",
       "            (SelfAttention): T5Attention(\n",
       "              (q): Linear(in_features=512, out_features=384, bias=False)\n",
       "              (k): Linear(in_features=512, out_features=384, bias=False)\n",
       "              (v): Linear(in_features=512, out_features=384, bias=False)\n",
       "              (o): Linear(in_features=384, out_features=512, bias=False)\n",
       "              (relative_attention_bias): Embedding(32, 6)\n",
       "            )\n",
       "            (layer_norm): T5LayerNorm()\n",
       "            (dropout): Dropout(p=0.1, inplace=False)\n",
       "          )\n",
       "          (1): T5LayerFF(\n",
       "            (DenseReluDense): T5DenseGatedActDense(\n",
       "              (wi_0): Linear(in_features=512, out_features=1024, bias=False)\n",
       "              (wi_1): Linear(in_features=512, out_features=1024, bias=False)\n",
       "              (wo): Linear(in_features=1024, out_features=512, bias=False)\n",
       "              (dropout): Dropout(p=0.1, inplace=False)\n",
       "              (act): NewGELUActivation()\n",
       "            )\n",
       "            (layer_norm): T5LayerNorm()\n",
       "            (dropout): Dropout(p=0.1, inplace=False)\n",
       "          )\n",
       "        )\n",
       "      )\n",
       "      (1-7): 7 x T5Block(\n",
       "        (layer): ModuleList(\n",
       "          (0): T5LayerSelfAttention(\n",
       "            (SelfAttention): T5Attention(\n",
       "              (q): Linear(in_features=512, out_features=384, bias=False)\n",
       "              (k): Linear(in_features=512, out_features=384, bias=False)\n",
       "              (v): Linear(in_features=512, out_features=384, bias=False)\n",
       "              (o): Linear(in_features=384, out_features=512, bias=False)\n",
       "            )\n",
       "            (layer_norm): T5LayerNorm()\n",
       "            (dropout): Dropout(p=0.1, inplace=False)\n",
       "          )\n",
       "          (1): T5LayerFF(\n",
       "            (DenseReluDense): T5DenseGatedActDense(\n",
       "              (wi_0): Linear(in_features=512, out_features=1024, bias=False)\n",
       "              (wi_1): Linear(in_features=512, out_features=1024, bias=False)\n",
       "              (wo): Linear(in_features=1024, out_features=512, bias=False)\n",
       "              (dropout): Dropout(p=0.1, inplace=False)\n",
       "              (act): NewGELUActivation()\n",
       "            )\n",
       "            (layer_norm): T5LayerNorm()\n",
       "            (dropout): Dropout(p=0.1, inplace=False)\n",
       "          )\n",
       "        )\n",
       "      )\n",
       "    )\n",
       "    (final_layer_norm): T5LayerNorm()\n",
       "    (dropout): Dropout(p=0.1, inplace=False)\n",
       "  )\n",
       "  (decoder): T5Stack(\n",
       "    (embed_tokens): Embedding(32128, 512)\n",
       "    (block): ModuleList(\n",
       "      (0): T5Block(\n",
       "        (layer): ModuleList(\n",
       "          (0): T5LayerSelfAttention(\n",
       "            (SelfAttention): T5Attention(\n",
       "              (q): Linear(in_features=512, out_features=384, bias=False)\n",
       "              (k): Linear(in_features=512, out_features=384, bias=False)\n",
       "              (v): Linear(in_features=512, out_features=384, bias=False)\n",
       "              (o): Linear(in_features=384, out_features=512, bias=False)\n",
       "              (relative_attention_bias): Embedding(32, 6)\n",
       "            )\n",
       "            (layer_norm): T5LayerNorm()\n",
       "            (dropout): Dropout(p=0.1, inplace=False)\n",
       "          )\n",
       "          (1): T5LayerCrossAttention(\n",
       "            (EncDecAttention): T5Attention(\n",
       "              (q): Linear(in_features=512, out_features=384, bias=False)\n",
       "              (k): Linear(in_features=512, out_features=384, bias=False)\n",
       "              (v): Linear(in_features=512, out_features=384, bias=False)\n",
       "              (o): Linear(in_features=384, out_features=512, bias=False)\n",
       "            )\n",
       "            (layer_norm): T5LayerNorm()\n",
       "            (dropout): Dropout(p=0.1, inplace=False)\n",
       "          )\n",
       "          (2): T5LayerFF(\n",
       "            (DenseReluDense): T5DenseGatedActDense(\n",
       "              (wi_0): Linear(in_features=512, out_features=1024, bias=False)\n",
       "              (wi_1): Linear(in_features=512, out_features=1024, bias=False)\n",
       "              (wo): Linear(in_features=1024, out_features=512, bias=False)\n",
       "              (dropout): Dropout(p=0.1, inplace=False)\n",
       "              (act): NewGELUActivation()\n",
       "            )\n",
       "            (layer_norm): T5LayerNorm()\n",
       "            (dropout): Dropout(p=0.1, inplace=False)\n",
       "          )\n",
       "        )\n",
       "      )\n",
       "      (1-7): 7 x T5Block(\n",
       "        (layer): ModuleList(\n",
       "          (0): T5LayerSelfAttention(\n",
       "            (SelfAttention): T5Attention(\n",
       "              (q): Linear(in_features=512, out_features=384, bias=False)\n",
       "              (k): Linear(in_features=512, out_features=384, bias=False)\n",
       "              (v): Linear(in_features=512, out_features=384, bias=False)\n",
       "              (o): Linear(in_features=384, out_features=512, bias=False)\n",
       "            )\n",
       "            (layer_norm): T5LayerNorm()\n",
       "            (dropout): Dropout(p=0.1, inplace=False)\n",
       "          )\n",
       "          (1): T5LayerCrossAttention(\n",
       "            (EncDecAttention): T5Attention(\n",
       "              (q): Linear(in_features=512, out_features=384, bias=False)\n",
       "              (k): Linear(in_features=512, out_features=384, bias=False)\n",
       "              (v): Linear(in_features=512, out_features=384, bias=False)\n",
       "              (o): Linear(in_features=384, out_features=512, bias=False)\n",
       "            )\n",
       "            (layer_norm): T5LayerNorm()\n",
       "            (dropout): Dropout(p=0.1, inplace=False)\n",
       "          )\n",
       "          (2): T5LayerFF(\n",
       "            (DenseReluDense): T5DenseGatedActDense(\n",
       "              (wi_0): Linear(in_features=512, out_features=1024, bias=False)\n",
       "              (wi_1): Linear(in_features=512, out_features=1024, bias=False)\n",
       "              (wo): Linear(in_features=1024, out_features=512, bias=False)\n",
       "              (dropout): Dropout(p=0.1, inplace=False)\n",
       "              (act): NewGELUActivation()\n",
       "            )\n",
       "            (layer_norm): T5LayerNorm()\n",
       "            (dropout): Dropout(p=0.1, inplace=False)\n",
       "          )\n",
       "        )\n",
       "      )\n",
       "    )\n",
       "    (final_layer_norm): T5LayerNorm()\n",
       "    (dropout): Dropout(p=0.1, inplace=False)\n",
       "  )\n",
       "  (lm_head): Linear(in_features=512, out_features=32128, bias=False)\n",
       ")"
      ]
     },
     "execution_count": 47,
     "metadata": {},
     "output_type": "execute_result"
    }
   ],
   "source": [
    "from transformers import AutoModelForSeq2SeqLM, AutoTokenizer\n",
    "\n",
    "nS_T5_model = AutoModelForSeq2SeqLM.from_pretrained(\"google/flan-t5-small\").to(device)\n",
    "nS_T5_tokenizer = AutoTokenizer.from_pretrained(\"google/flan-t5-small\")\n",
    "\n",
    "nS_T5_model.eval()"
   ]
  },
  {
   "attachments": {},
   "cell_type": "markdown",
   "metadata": {},
   "source": [
    "<font size=\"6\">**Show example of comment, answer and true labels**</font><br>"
   ]
  },
  {
   "cell_type": "code",
   "execution_count": 48,
   "metadata": {},
   "outputs": [
    {
     "name": "stdout",
     "output_type": "stream",
     "text": [
      "Classify a comment as toxic or not and choose the types of toxicity from the following labels: [toxic, severe toxic, obscene, threat, insult, identity hate or not toxic].\n",
      "\n",
      "Predict one or more labels for the comment: I'm also a sock puppet of this account...SUPRISE!!\n",
      "-sincerely,\n",
      "            The man that will track you down from the Internet and kill you\n",
      "\n",
      "prediction: ['[toxic, severe toxic, obscene, threat, insult, identity hate']\n",
      "\n",
      "True labels:\n",
      "toxic            1\n",
      "severe_toxic     0\n",
      "obscene          0\n",
      "threat           1\n",
      "insult           0\n",
      "identity_hate    0\n",
      "Name: 600, dtype: object\n"
     ]
    }
   ],
   "source": [
    "sequence_to_classify ,f = train_dataset_full.__getitem__(600)\n",
    "prompt =f\"Classify a comment as toxic or not and choose the types of toxicity from the following labels: [toxic, severe toxic, obscene, threat, insult, identity hate or not toxic].\\n\\nPredict one or more labels for the comment: {sequence_to_classify}\"\n",
    "print(prompt)\n",
    "inputs = nS_T5_tokenizer(prompt, return_tensors=\"pt\").to(device)\n",
    "outputs = nS_T5_model.generate(**inputs, max_new_tokens = 1024)\n",
    "ans = nS_T5_tokenizer.batch_decode(outputs, skip_special_tokens=True)\n",
    "print(f'\\nprediction: {ans}')\n",
    "print(f'\\nTrue labels:\\n{train_data.iloc[600].iloc[2:]}')"
   ]
  },
  {
   "attachments": {},
   "cell_type": "markdown",
   "metadata": {},
   "source": [
    "<font size=\"6\">**T5 Zero Shot classify toxic comment function**</font><br>"
   ]
  },
  {
   "cell_type": "code",
   "execution_count": 49,
   "metadata": {},
   "outputs": [],
   "source": [
    "def Zero_shot_classify_toxic_comment_T5(comment):\n",
    "    \"\"\"Generate prompt to T5 OpenAI api based on comment, optional labels and one example.\n",
    "\n",
    "    Parameters\n",
    "    ----------\n",
    "    comment : string\n",
    "        The comment we want to classify.\n",
    "\n",
    "    Returns\n",
    "    -------\n",
    "    answer : string\n",
    "        The model.\n",
    "    \"\"\"\n",
    "    prompt = f\"Classify a comment as toxic or not and choose the types of toxicity from the following labels: [toxic, severe toxic, obscene, threat, insult, identity hate or not toxic].\\n\\nPredict one or more labels for the comment: {comment}\"\n",
    "    inputs = nS_T5_tokenizer(prompt, return_tensors=\"pt\").to(device)\n",
    "    outputs = nS_T5_model.generate(**inputs, max_new_tokens = 1024)\n",
    "    answer = nS_T5_tokenizer.batch_decode(outputs, skip_special_tokens=True)\n",
    "\n",
    "    return answer[0]"
   ]
  },
  {
   "attachments": {},
   "cell_type": "markdown",
   "metadata": {},
   "source": [
    "<font size=\"6\">**Classification function for T5 Zero Shot**</font><br>"
   ]
  },
  {
   "cell_type": "code",
   "execution_count": 50,
   "metadata": {},
   "outputs": [],
   "source": [
    "def classify_ZS_T5(model, train_dataloader):\n",
    "    \"\"\"Classify the comments.\n",
    "\n",
    "    Parameters\n",
    "    ----------\n",
    "    model : the model function.\n",
    "        Zero shot model.\n",
    "    train_dataloader : pytorch dataloader\n",
    "        The comments.\n",
    "\n",
    "    Returns\n",
    "    -------\n",
    "    preds : list\n",
    "        Predicted labels array of 0 and 1.\n",
    "    targets : list\n",
    "        True labels array of 0 and 1.\n",
    "    \"\"\"\n",
    "    preds = []\n",
    "    targets = []\n",
    "    num_samples = len(train_dataloader)\n",
    "    for i, (comment, labels) in tqdm(enumerate(train_dataloader), total=num_samples):\n",
    "        classification = model(comment)\n",
    "        pred = convert_pred_to_array(classification, train_dataloader.dataset.labels())\n",
    "        preds.append(pred)\n",
    "        targets.append(labels.numpy())\n",
    "    \n",
    "    return preds, targets"
   ]
  },
  {
   "attachments": {},
   "cell_type": "markdown",
   "metadata": {},
   "source": [
    "<font size=\"6\">**Classify with Zero Shot**</font><br>"
   ]
  },
  {
   "cell_type": "code",
   "execution_count": 53,
   "metadata": {},
   "outputs": [
    {
     "name": "stderr",
     "output_type": "stream",
     "text": [
      "100%|██████████| 200/200 [00:20<00:00,  9.83it/s]\n"
     ]
    }
   ],
   "source": [
    "ZS_T5_preds, ZS_T5_targets = classify_ZS_T5(Zero_shot_classify_toxic_comment_T5, train_dataloader)"
   ]
  },
  {
   "cell_type": "code",
   "execution_count": 55,
   "metadata": {},
   "outputs": [],
   "source": [
    "# save the results\n",
    "np.save('preds\\ZS_T5_preds.npy', ZS_T5_preds)\n",
    "np.save('preds\\ZS_T5_targets.npy', ZS_T5_targets)"
   ]
  },
  {
   "attachments": {},
   "cell_type": "markdown",
   "metadata": {},
   "source": [
    "<font size=\"6\">**Show accuracy, precision, recall and f1 scores**</font><br>"
   ]
  },
  {
   "cell_type": "code",
   "execution_count": 54,
   "metadata": {},
   "outputs": [
    {
     "name": "stdout",
     "output_type": "stream",
     "text": [
      "Accuracy: 0.245\n",
      "Test AUC score: 0.5316233042906364\n",
      "\n",
      "               precision    recall  f1-score   support\n",
      "\n",
      "        toxic       0.57      0.75      0.65        96\n",
      " severe_toxic       0.01      0.25      0.02         4\n",
      "      obscene       0.28      0.69      0.39        45\n",
      "       threat       0.01      0.50      0.02         2\n",
      "       insult       0.29      0.76      0.42        42\n",
      "identity_hate       0.04      0.57      0.07         7\n",
      "\n",
      "    micro avg       0.21      0.72      0.33       196\n",
      "    macro avg       0.20      0.59      0.26       196\n",
      " weighted avg       0.41      0.72      0.50       196\n",
      "  samples avg       0.15      0.35      0.18       196\n",
      "\n"
     ]
    }
   ],
   "source": [
    "ZS_T5_accuracy = Accuracy(ZS_T5_preds, ZS_T5_targets)\n",
    "print(f'Accuracy: {ZS_T5_accuracy}')\n",
    "y_true = np.array(ZS_T5_targets).reshape((-1, 6))\n",
    "y_preds = np.array(ZS_T5_preds).reshape((-1, 6))\n",
    "AUC_score = roc_auc_score(y_true, y_preds)\n",
    "print(f'Test AUC score: {AUC_score}\\n')\n",
    "print(classification_report(np.array(ZS_T5_targets).squeeze(1), np.array(ZS_T5_preds), target_names=train_dataloader.dataset.labels(), zero_division=0))"
   ]
  },
  {
   "attachments": {},
   "cell_type": "markdown",
   "metadata": {},
   "source": [
    "<font size=\"6\">**T5**</font> <br>\n",
    "<font size=\"5\">One Shot learning."
   ]
  },
  {
   "attachments": {},
   "cell_type": "markdown",
   "metadata": {},
   "source": [
    "<font size=\"6\">**Generate example function T5**</font><br>"
   ]
  },
  {
   "cell_type": "code",
   "execution_count": 56,
   "metadata": {},
   "outputs": [],
   "source": [
    "def generate_example_T5(train_dataset, index):\n",
    "    \"\"\"Generate comment example with the true labels.\n",
    "\n",
    "    Parameters\n",
    "    ----------\n",
    "    train_dataset : dataset\n",
    "        The comments dataset.\n",
    "    index : int\n",
    "        The comment index.\n",
    "\n",
    "    Returns\n",
    "    -------\n",
    "    example : string\n",
    "        comment with true labels.\n",
    "    \"\"\"\n",
    "    labels = train_dataset.labels()\n",
    "    example_comment , tar = train_dataset.__getitem__(index)\n",
    "    example_labels = 'The classification of the comment is:'\n",
    "    for i in range(len(tar)):\n",
    "        if tar[i] == 1:\n",
    "            labels[i] = labels[i].replace('_', ' ')\n",
    "            example_labels += f' {labels[i]},'\n",
    "\n",
    "    if example_labels == 'The classification of the comment is:':\n",
    "        example_labels += ' not toxic.'\n",
    "    else:\n",
    "        example_labels = list(example_labels)\n",
    "        example_labels[-1] = '.'\n",
    "        example_labels = \"\".join(example_labels)\n",
    "\n",
    "    example = f'For example, comment:\\\"{example_comment}\\\". {example_labels}'\n",
    "    \n",
    "    return example"
   ]
  },
  {
   "attachments": {},
   "cell_type": "markdown",
   "metadata": {},
   "source": [
    "<font size=\"6\">**Show example of comment, answer and true labels**</font><br>"
   ]
  },
  {
   "cell_type": "code",
   "execution_count": 410,
   "metadata": {},
   "outputs": [
    {
     "name": "stdout",
     "output_type": "stream",
     "text": [
      "Classify a comment as toxic or not and choose the types of toxicity from the following labels: [toxic, severe toxic, obscene, threat, insult, identity hate or not toxic].\n",
      "\n",
      "For example, comment:\"COCKSUCKER BEFORE YOU PISS AROUND ON MY WORK\". The classification of the comment is: toxic, severe toxic, obscene, insult.\n",
      "\n",
      "Predict one or more labels for the comment: I'm also a sock puppet of this account...SUPRISE!!\n",
      "-sincerely,\n",
      "            The man that will track you down from the Internet and kill you\n",
      "\n",
      "prediction: ['[toxic, severe toxic, obscene, threat, insult, identity hate']\n",
      "\n",
      "True labels:\n",
      "toxic            1\n",
      "severe_toxic     0\n",
      "obscene          0\n",
      "threat           1\n",
      "insult           0\n",
      "identity_hate    0\n",
      "Name: 600, dtype: object\n"
     ]
    }
   ],
   "source": [
    "sequence_to_classify ,f = train_dataset_full.__getitem__(600)\n",
    "example = generate_example_T5(train_dataset_full, 6)\n",
    "prompt =f\"Classify a comment as toxic or not and choose the types of toxicity from the following labels: [toxic, severe toxic, obscene, threat, insult, identity hate or not toxic].\\n\\n{example}\\n\\nPredict one or more labels for the comment: {sequence_to_classify}\"\n",
    "print(prompt)\n",
    "inputs = nS_T5_tokenizer(prompt, return_tensors=\"pt\").to(device)\n",
    "outputs = nS_T5_model.generate(**inputs, max_new_tokens = 1024)\n",
    "ans = nS_T5_tokenizer.batch_decode(outputs, skip_special_tokens=True)\n",
    "print(f'\\nprediction: {ans}')\n",
    "print(f'\\nTrue labels:\\n{train_data.iloc[600].iloc[2:]}')"
   ]
  },
  {
   "attachments": {},
   "cell_type": "markdown",
   "metadata": {},
   "source": [
    "<font size=\"6\">**T5 One Shot classify toxic comment function**</font><br>"
   ]
  },
  {
   "cell_type": "code",
   "execution_count": 57,
   "metadata": {},
   "outputs": [],
   "source": [
    "def one_shot_classify_toxic_comment_T5(comment, example):\n",
    "    \"\"\"Generate prompt to T5 OpenAI api based on comment, optional labels and one example.\n",
    "\n",
    "    Parameters\n",
    "    ----------\n",
    "    comment : string\n",
    "        The comment we want to classify.\n",
    "    example : string\n",
    "        comment with true labels.\n",
    "\n",
    "    Returns\n",
    "    -------\n",
    "    answer : string\n",
    "        The chosen labels.\n",
    "    \"\"\"\n",
    "    prompt = f\"Classify a comment as toxic or not and choose the types of toxicity from the following labels: [toxic, severe toxic, obscene, threat, insult, identity hate or not toxic].\\n\\n{example}\\n\\nPredict one or more labels for the comment: {comment}\"\n",
    "    inputs = nS_T5_tokenizer(prompt, return_tensors=\"pt\").to(device)\n",
    "    outputs = nS_T5_model.generate(**inputs, max_new_tokens = 1024)\n",
    "    answer = nS_T5_tokenizer.batch_decode(outputs, skip_special_tokens=True)\n",
    "\n",
    "    return answer[0]"
   ]
  },
  {
   "attachments": {},
   "cell_type": "markdown",
   "metadata": {},
   "source": [
    "<font size=\"6\">**Classification function for T5 One Shot**</font><br>"
   ]
  },
  {
   "cell_type": "code",
   "execution_count": 58,
   "metadata": {},
   "outputs": [],
   "source": [
    "def classify_nS_T5(model, train_dataloader, example):\n",
    "    \"\"\"Classify the comments.\n",
    "\n",
    "    Parameters\n",
    "    ----------\n",
    "    model : the model function.\n",
    "        Zero shot model.\n",
    "    train_dataloader : pytorch dataloader\n",
    "        The comments.\n",
    "    example : string\n",
    "        comment with true labels.\n",
    "\n",
    "    Returns\n",
    "    -------\n",
    "    preds : list\n",
    "        Predicted labels array of 0 and 1.\n",
    "    targets : list\n",
    "        True labels array of 0 and 1.\n",
    "    \"\"\"\n",
    "    preds = []\n",
    "    targets = []\n",
    "    num_samples = len(train_dataloader)\n",
    "    for i, (comment, labels) in tqdm(enumerate(train_dataloader), total=num_samples):\n",
    "        classification = model(comment, example)\n",
    "        pred = convert_pred_to_array(classification, train_dataloader.dataset.labels())\n",
    "        preds.append(pred)\n",
    "        targets.append(labels.numpy())\n",
    "    \n",
    "    return preds, targets"
   ]
  },
  {
   "attachments": {},
   "cell_type": "markdown",
   "metadata": {},
   "source": [
    "<font size=\"6\">**Classify with One Shot**</font><br>"
   ]
  },
  {
   "cell_type": "code",
   "execution_count": 446,
   "metadata": {},
   "outputs": [
    {
     "name": "stderr",
     "output_type": "stream",
     "text": [
      "100%|██████████| 200/200 [00:21<00:00,  9.21it/s]\n"
     ]
    }
   ],
   "source": [
    "example = generate_example_T5(train_dataset_full, 6)\n",
    "OS_T5_preds, OS_T5_targets = classify_nS_T5(one_shot_classify_toxic_comment_T5, train_dataloader, example)"
   ]
  },
  {
   "cell_type": "code",
   "execution_count": 447,
   "metadata": {},
   "outputs": [],
   "source": [
    "# save the results\n",
    "np.save('preds\\OS_T5_preds.npy', OS_T5_preds)\n",
    "np.save('preds\\OS_T5_targets.npy', OS_T5_targets)"
   ]
  },
  {
   "attachments": {},
   "cell_type": "markdown",
   "metadata": {},
   "source": [
    "<font size=\"6\">**Show accuracy, precision, recall and f1 scores**</font><br>"
   ]
  },
  {
   "cell_type": "code",
   "execution_count": 60,
   "metadata": {},
   "outputs": [
    {
     "name": "stdout",
     "output_type": "stream",
     "text": [
      "Accuracy: 0.19\n",
      "Test AUC score: 0.6291673298322215\n",
      "\n",
      "               precision    recall  f1-score   support\n",
      "\n",
      "        toxic       0.55      0.87      0.67        93\n",
      " severe_toxic       0.07      1.00      0.14        11\n",
      "      obscene       0.31      0.84      0.45        55\n",
      "       threat       0.02      1.00      0.04         2\n",
      "       insult       0.32      0.89      0.47        53\n",
      "identity_hate       0.05      0.88      0.09         8\n",
      "\n",
      "    micro avg       0.23      0.87      0.37       222\n",
      "    macro avg       0.22      0.91      0.31       222\n",
      " weighted avg       0.39      0.87      0.52       222\n",
      "  samples avg       0.18      0.42      0.23       222\n",
      "\n"
     ]
    }
   ],
   "source": [
    "OS_T5_accuracy = Accuracy(OS_T5_preds, OS_T5_targets)\n",
    "print(f'Accuracy: {OS_T5_accuracy}')\n",
    "y_true = np.array(OS_T5_targets).reshape((-1, 6))\n",
    "y_preds = np.array(OS_T5_preds).reshape((-1, 6))\n",
    "AUC_score = roc_auc_score(y_true, y_preds)\n",
    "print(f'Test AUC score: {AUC_score}\\n')\n",
    "print(classification_report(np.array(OS_T5_targets).squeeze(1), np.array(OS_T5_preds), target_names=train_dataloader.dataset.labels(), zero_division=0))"
   ]
  },
  {
   "attachments": {},
   "cell_type": "markdown",
   "metadata": {},
   "source": [
    "<font size=\"6\">**T5**</font> <br>\n",
    "<font size=\"5\">Few Shot learning."
   ]
  },
  {
   "attachments": {},
   "cell_type": "markdown",
   "metadata": {},
   "source": [
    "<font size=\"6\">**Generate T5 examples function**</font><br>"
   ]
  },
  {
   "cell_type": "code",
   "execution_count": 14,
   "metadata": {},
   "outputs": [],
   "source": [
    "def generate_examples_T5(train_dataset_full, few_shot_indices, num_ex):\n",
    "    \"\"\"Generate comment examples with the true labels.\n",
    "\n",
    "    Parameters\n",
    "    ----------\n",
    "    train_dataset_full : dataset\n",
    "        The comments dataset.\n",
    "    few_shot_indices : list\n",
    "        indexes\n",
    "    num_ex : int\n",
    "        The number of examples to generate.\n",
    "\n",
    "    Returns\n",
    "    -------\n",
    "    examples : string\n",
    "        comments with true labels.\n",
    "    \"\"\"\n",
    "    examples_toxic = []\n",
    "    examples_not_toxic = []\n",
    "    examples_list = []\n",
    "    for i in few_shot_indices:\n",
    "        ex = generate_example_T5(train_dataset_full, i)\n",
    "        if 'not toxic' in ex:\n",
    "            if len(examples_not_toxic) < num_ex//2:\n",
    "                examples_not_toxic.append(ex)\n",
    "        else:\n",
    "            if len(examples_toxic) < num_ex//2:\n",
    "                examples_toxic.append(ex)\n",
    "\n",
    "    examples_list = examples_toxic + examples_not_toxic\n",
    "    \n",
    "    examples = ''\n",
    "    for ex in examples_list:\n",
    "        examples += f'{ex}\\n\\n'\n",
    "    \n",
    "    return examples"
   ]
  },
  {
   "attachments": {},
   "cell_type": "markdown",
   "metadata": {},
   "source": [
    "<font size=\"6\">**T5 Few Shot classify toxic comment function**</font><br>"
   ]
  },
  {
   "cell_type": "code",
   "execution_count": 15,
   "metadata": {},
   "outputs": [],
   "source": [
    "def few_shot_classify_toxic_comment_T5(comment, examples):\n",
    "    \"\"\"Generate prompt to T5 OpenAI api based on comment, optional labels and examples.\n",
    "\n",
    "    Parameters\n",
    "    ----------\n",
    "    comment : string\n",
    "        The comment we want to classify.\n",
    "    labels : list of strings\n",
    "        The optional labels.\n",
    "    example : string\n",
    "        comment with true labels.\n",
    "\n",
    "    Returns\n",
    "    -------\n",
    "    answer : string\n",
    "        The chosen labels.\n",
    "    \"\"\"\n",
    "    prompt = f\"Classify a comment as toxic or not and choose the types of toxicity from the following labels: [toxic, severe toxic, obscene, threat, insult, identity hate or not toxic].\\n\\n{examples}\\n\\nPredict one or more labels for the comment: {comment}\"\n",
    "    inputs = nS_T5_tokenizer(prompt, return_tensors=\"pt\").to(device)\n",
    "    outputs = nS_T5_model.generate(**inputs, max_new_tokens = 20)\n",
    "    answer = nS_T5_tokenizer.batch_decode(outputs, skip_special_tokens=True)\n",
    "\n",
    "    return answer[0]"
   ]
  },
  {
   "attachments": {},
   "cell_type": "markdown",
   "metadata": {},
   "source": [
    "<font size=\"6\">**Show example of comment, answer and true labels**</font><br>"
   ]
  },
  {
   "cell_type": "code",
   "execution_count": 457,
   "metadata": {},
   "outputs": [
    {
     "name": "stdout",
     "output_type": "stream",
     "text": [
      "Classify a comment as toxic or not and choose the types of toxicity from the following labels: [toxic, severe toxic, obscene, threat, insult, identity hate or not toxic].\n",
      "\n",
      "For example, comment:\"Paid fukkin scumbag - Kleargear \n",
      "\n",
      "This fukker has protected William Franklin Bermender since day fukkin one.\n",
      "\n",
      "INVESTIGATE this paid mole and right fukkin now!!!\". The classification of the comment is: toxic, obscene, insult.\n",
      "\n",
      "For example, comment:\"P4k \n",
      "\n",
      "If what you do in Wikipedia is delete things people worked on, why in the world are you logged on to wikipedia. Say, do you delete things for...enjoyment? Or do you delete things for a good reason? How would you feel if I went to one page you did and deleted the whole thing and wrote on it FUCK YOU!!!! How would you feel?\". The classification of the comment is: toxic, obscene, insult.\n",
      "\n",
      "For example, comment:\"Horrible horrible... \n",
      "\n",
      "...little shit, That's what you are. Horrible horrible....\n",
      "\n",
      "...things are going to happen to you, you meddling little fuck! 217.41.238.156\". The classification of the comment is: toxic, obscene, insult.\n",
      "\n",
      "For example, comment:\"because I am a bit off a faggot\". The classification of the comment is: toxic, obscene.\n",
      "\n",
      "For example, comment:\", or else I'll cure your virginity from the wrong hole\". The classification of the comment is: toxic, obscene.\n",
      "\n",
      "For example, comment:\"To Dawnseeker2000 \n",
      "\n",
      " please explain the action of you revert Taiwan part\n",
      "If you keeping act rude without reason I see you in the Village pump\". The classification of the comment is: not toxic.\n",
      "\n",
      "For example, comment:\"\"\n",
      "\n",
      " The word \"\"will\"\" and \"\"is\"\" in the initial paragraph is incorrect \n",
      "\n",
      "Someone has returned the mistake in the article that claimed that the treaty \"\"will\"\" do the things written in it. That's incorrect because such a statement seems to imply that the treaty will be adopted which is not known at this moment. Many signs indicate that the treaty will never be adopted.\n",
      "\n",
      "I urge all editors to avoid excessive speculation and pushing NPOV. Thanks, LM   \"\". The classification of the comment is: not toxic.\n",
      "\n",
      "For example, comment:\"Claim that her sister is gay \n",
      "\n",
      "It is still just a claim and needs to be qualified. Three sources are given, the Daily Beast, The Atlantic and Mother Jones. Though it could be argued that they are not reliable sources, I think they are marginally reliable, there are three of them and each of these articles is written by professional journalist{s}. \n",
      "\n",
      "However, when I looking at the sources they do not definitively say Jennie is gay, which is contrary to the way the WP article now reads: The Atlantic says Jennie has been campaigning for her sister and may be a lesbian; Mother Jones says Jennie supports gay rights and lives with a girlfriend; Daily Beast says Wade Richards, a former employee of Christine's organization, SALT, says the O'Donnell has a sister who is gay. Daily Beast also says Christine campaigned against gay rights. Based on all of this, it is not established by RSs that Jennie is gay. So, I will be doing a combination of reverting and re-writing the earlier version of the statement.\". The classification of the comment is: not toxic.\n",
      "\n",
      "For example, comment:\"RE: Edinburgh Meetup \n",
      "\n",
      "I'm sorry, I can't, for a number of reasons.  Apologies.  Good luck with organising the meetup!  Hope it goes well!  ~~~~\". The classification of the comment is: not toxic.\n",
      "\n",
      "For example, comment:\"\"\n",
      "\n",
      "Take Swift Stern Action against this guy\n",
      "\n",
      "Hi Sue,\n",
      "\n",
      "Long time. How are you?\n",
      "\n",
      "I visit wikipedia only occasionally these days.\n",
      "\n",
      "I just came across this: \n",
      "\n",
      "I think you should give Crossmr a stern warning of NPA and CIVIL on his talk page and I think you should remove that despicable PA and uncivil comment(check out the heading/edit of the comment /edit summary /etc.) from royaa's talk page. Or let me know if I should personally give him that warning and remove that despicable comment myself. I would be happy to do that. Thanks.\n",
      "\n",
      "It seems that Crossmr is acting with a malicious instigative agenda. He keeps rambling on about old things and keeps repeating himself (and his instigations) about them. It seems that he is unable to move on, and let peace reign, and is hung up on old already-settled bloated issues, not to mention non-issues. He seems to want to live in the past.\n",
      "And to think that this guy goes around placing warnings of CIVIL and NPA on other user's talk pages. Talk about missing the plank for the speck. Tsk tsk. LOL. He should pay attention to his own Block Log  and history!!!!! lol.\n",
      "\n",
      "He also needs to learn properly about AGF and pipe down.\n",
      "\n",
      "His ill-intended comments are obviously malicious and deliberately provocative. But instead of me being provoked, he only serves to amuse me. HAHAHAHAHAHAHAHA. But it has to be made clear to him that his uncivil rants are totally unacceptable and will not be tolerated. I think coming from an admin will make him, a general user, understand better.\n",
      "\n",
      "Thanks and regards. )\n",
      "\n",
      " \n",
      "\n",
      "PS. If first time newbie issues like first time misinformed \"\"vandalism\"\" are brought up, especially from their IPs, almost everyone on wiki would be \"\"old vandals\"\" because almost no one is expected to know wiki rules when they start editing on a whim via google one fine day. HAHAHAHAHA. BITE, AGF etc. Also was looking to merge those accounts and attribution etc. but never really got around to doing it. Though I think I had already mentioned it on one of the accounts user pages and also the edit histories and everything else is so very obvious! I had MYSELF mentioned that those are my accounts in my comments! Not to mention the archive! lol. Seriously, AGF in underlined bold for some people. LOLOL.\"\". The classification of the comment is: not toxic.\n",
      "\n",
      "\n",
      "\n",
      "Predict one or more labels for the comment: I'm also a sock puppet of this account...SUPRISE!!\n",
      "-sincerely,\n",
      "            The man that will track you down from the Internet and kill you\n",
      "\n",
      "prediction: [toxic, obscene, insult, insult, insult, comment:\"I'm\n",
      "\n",
      "True labels:\n",
      "toxic            1\n",
      "severe_toxic     0\n",
      "obscene          0\n",
      "threat           1\n",
      "insult           0\n",
      "identity_hate    0\n",
      "Name: 600, dtype: object\n"
     ]
    }
   ],
   "source": [
    "sequence_to_classify ,f = train_dataset_full.__getitem__(600)\n",
    "examples = generate_examples_T5(train_dataset_full, few_shot_indices, 10)\n",
    "prompt =f\"Classify a comment as toxic or not and choose the types of toxicity from the following labels: [toxic, severe toxic, obscene, threat, insult, identity hate or not toxic].\\n\\n{examples}\\n\\nPredict one or more labels for the comment: {sequence_to_classify}\"\n",
    "print(prompt)\n",
    "# inputs = nS_BART_tokenizer(prompt, return_tensors=\"pt\").to(device)\n",
    "# outputs = nS_BART_model.generate(**inputs, max_new_tokens = 20)\n",
    "# ans = nS_BART_tokenizer.batch_decode(outputs, skip_special_tokens=True)\n",
    "ans = few_shot_classify_toxic_comment_T5(sequence_to_classify, examples)\n",
    "print(f'\\nprediction: {ans}')\n",
    "print(f'\\nTrue labels:\\n{train_data.iloc[600].iloc[2:]}')"
   ]
  },
  {
   "attachments": {},
   "cell_type": "markdown",
   "metadata": {},
   "source": [
    "<font size=\"6\">**Classify with Few Shot**</font><br>"
   ]
  },
  {
   "cell_type": "code",
   "execution_count": 18,
   "metadata": {},
   "outputs": [
    {
     "name": "stderr",
     "output_type": "stream",
     "text": [
      "100%|██████████| 200/200 [00:21<00:00,  9.28it/s]\n"
     ]
    }
   ],
   "source": [
    "examples = generate_examples_T5(train_dataset_full, few_shot_indices, 10)\n",
    "FS_T5_preds, FS_T5_targets = classify_nS_T5(few_shot_classify_toxic_comment_T5, train_dataloader, examples)"
   ]
  },
  {
   "cell_type": "code",
   "execution_count": 19,
   "metadata": {},
   "outputs": [],
   "source": [
    "# save the results\n",
    "np.save('preds\\FS_T5_preds.npy', FS_T5_preds)\n",
    "np.save('preds\\FS_T5_targets.npy', FS_T5_targets)"
   ]
  },
  {
   "attachments": {},
   "cell_type": "markdown",
   "metadata": {},
   "source": [
    "<font size=\"6\">**Show accuracy, precision, recall and f1 scores**</font><br>"
   ]
  },
  {
   "cell_type": "code",
   "execution_count": 62,
   "metadata": {},
   "outputs": [
    {
     "name": "stdout",
     "output_type": "stream",
     "text": [
      "Accuracy: 0.125\n",
      "Test AUC score: 0.49973170635968334\n",
      "\n",
      "               precision    recall  f1-score   support\n",
      "\n",
      "        toxic       0.46      1.00      0.63        92\n",
      " severe_toxic       0.00      0.00      0.00        10\n",
      "      obscene       0.27      1.00      0.42        53\n",
      "       threat       0.00      0.00      0.00         2\n",
      "       insult       0.26      1.00      0.41        51\n",
      "identity_hate       0.00      0.00      0.00         9\n",
      "\n",
      "    micro avg       0.33      0.90      0.48       217\n",
      "    macro avg       0.16      0.50      0.24       217\n",
      " weighted avg       0.32      0.90      0.47       217\n",
      "  samples avg       0.33      0.47      0.36       217\n",
      "\n"
     ]
    }
   ],
   "source": [
    "FS_T5_accuracy = Accuracy(FS_T5_preds, FS_T5_targets)\n",
    "print(f'Accuracy: {FS_T5_accuracy}')\n",
    "y_true = np.array(FS_T5_targets).reshape((-1, 6))\n",
    "y_preds = np.array(FS_T5_preds).reshape((-1, 6))\n",
    "AUC_score = roc_auc_score(y_true, y_preds)\n",
    "print(f'Test AUC score: {AUC_score}\\n')\n",
    "print(classification_report(np.array(FS_T5_targets).squeeze(1), np.array(FS_T5_preds), target_names=train_dataloader.dataset.labels(), zero_division=0))"
   ]
  },
  {
   "attachments": {},
   "cell_type": "markdown",
   "metadata": {},
   "source": [
    "<font size=\"6\">**BART**</font> <br>\n",
    "<font size=\"5\">Zero Shot learning.<br>\n",
    "Using \"facebook/bart-large-mnli\" model for Zero shot classification"
   ]
  },
  {
   "cell_type": "code",
   "execution_count": 17,
   "metadata": {},
   "outputs": [],
   "source": [
    "ZS_BART = pipeline(\"zero-shot-classification\", model=\"facebook/bart-large-mnli\")"
   ]
  },
  {
   "cell_type": "code",
   "execution_count": 19,
   "metadata": {},
   "outputs": [],
   "source": [
    "pre_path = os.path.join( 'preds', 'ZS_BART_preds.npy')\n",
    "ZS_BART_preds = np.load(pre_path)\n",
    "tar_path = os.path.join( 'preds', 'ZS_BART_targets.npy')\n",
    "ZS_BART_targets = np.load(tar_path)"
   ]
  },
  {
   "attachments": {},
   "cell_type": "markdown",
   "metadata": {},
   "source": [
    "<font size=\"6\">**Show example of comment, answer and true labels**</font><br>"
   ]
  },
  {
   "cell_type": "code",
   "execution_count": 7,
   "metadata": {},
   "outputs": [
    {
     "data": {
      "text/plain": [
       "{'sequence': \"I'm also a sock puppet of this account...SUPRISE!!\\n-sincerely,\\n            The man that will track you down from the Internet and kill you\",\n",
       " 'labels': ['threat',\n",
       "  'obscene',\n",
       "  'toxic',\n",
       "  'severe_toxic',\n",
       "  'identity_hate',\n",
       "  'insult'],\n",
       " 'scores': [0.9347251653671265,\n",
       "  0.925753653049469,\n",
       "  0.754010796546936,\n",
       "  0.31084638833999634,\n",
       "  0.16724631190299988,\n",
       "  0.04525650665163994]}"
      ]
     },
     "metadata": {},
     "output_type": "display_data"
    },
    {
     "name": "stdout",
     "output_type": "stream",
     "text": [
      "\n",
      "True labels:\n",
      "toxic            1\n",
      "severe_toxic     0\n",
      "obscene          0\n",
      "threat           1\n",
      "insult           0\n",
      "identity_hate    0\n",
      "Name: 600, dtype: object\n"
     ]
    }
   ],
   "source": [
    "sequence_to_classify ,_ = train_dataset_full.__getitem__(600)\n",
    "candidate_labels = train_dataset_full.labels()\n",
    "display(ZS_BART(sequence_to_classify, candidate_labels, multi_label=True))\n",
    "print(f'\\nTrue labels:\\n{train_data.iloc[600].iloc[2:]}')"
   ]
  },
  {
   "attachments": {},
   "cell_type": "markdown",
   "metadata": {},
   "source": [
    "<font size=\"6\">**Convert the predicted labels to array of 0 and 1**</font><br>"
   ]
  },
  {
   "cell_type": "code",
   "execution_count": 9,
   "metadata": {},
   "outputs": [],
   "source": [
    "def convert_pred_to_array_ZS_BART(classification, train_dataloader):\n",
    "    scores = classification['scores'].copy()\n",
    "    labels_pred = classification['labels'].copy()\n",
    "    labels = train_dataloader.dataset.labels()\n",
    "    pred = np.zeros(len(scores), dtype=np.int64)\n",
    "\n",
    "    for j in range(len(scores)):\n",
    "        if scores[j] > 0.5:\n",
    "            pred[labels.index(labels_pred[j])] = 1\n",
    "    \n",
    "    return pred"
   ]
  },
  {
   "attachments": {},
   "cell_type": "markdown",
   "metadata": {},
   "source": [
    "<font size=\"6\">**Classification function for BART Zero Shot**</font><br>"
   ]
  },
  {
   "cell_type": "code",
   "execution_count": 8,
   "metadata": {},
   "outputs": [],
   "source": [
    "def classify_ZS_BART(model, train_dataloader):\n",
    "    \"\"\"Classify the comments.\n",
    "\n",
    "    Parameters\n",
    "    ----------\n",
    "    model : the model function.\n",
    "        Zero shot model.\n",
    "    train_dataloader : pytorch dataloader\n",
    "        The comments.\n",
    "\n",
    "    Returns\n",
    "    -------\n",
    "    preds : list\n",
    "        Predicted labels array of 0 and 1.\n",
    "    targets : list\n",
    "        True labels array of 0 and 1.\n",
    "    \"\"\"\n",
    "    preds = []\n",
    "    targets = []\n",
    "    num_samples = len(train_dataloader)\n",
    "    for i, (comment, labels) in tqdm(enumerate(train_dataloader), total=num_samples):\n",
    "        classification = model(comment, train_dataloader.dataset.labels(), multi_label=True)\n",
    "        pred = convert_pred_to_array_ZS_BART(classification, train_dataloader)\n",
    "        preds.append(pred)\n",
    "        targets.append(labels.numpy())\n",
    "    \n",
    "    return preds, targets"
   ]
  },
  {
   "attachments": {},
   "cell_type": "markdown",
   "metadata": {},
   "source": [
    "<font size=\"6\">**Classify with BART Zero Shot**</font><br>"
   ]
  },
  {
   "cell_type": "code",
   "execution_count": 10,
   "metadata": {},
   "outputs": [
    {
     "name": "stderr",
     "output_type": "stream",
     "text": [
      "100%|██████████| 200/200 [04:13<00:00,  1.27s/it]\n"
     ]
    }
   ],
   "source": [
    "ZS_BART_preds, ZS_BART_targets = classify_ZS_BART(ZS_BART, train_dataloader)"
   ]
  },
  {
   "cell_type": "code",
   "execution_count": null,
   "metadata": {},
   "outputs": [],
   "source": [
    "# save the results\n",
    "np.save('preds\\ZS_BART_preds.npy', ZS_BART_preds)\n",
    "np.save('preds\\ZS_BART_targets.npy', ZS_BART_targets)"
   ]
  },
  {
   "attachments": {},
   "cell_type": "markdown",
   "metadata": {},
   "source": [
    "<font size=\"6\">**Show accuracy, precision, recall and f1 scores**</font><br>"
   ]
  },
  {
   "cell_type": "code",
   "execution_count": 27,
   "metadata": {},
   "outputs": [
    {
     "name": "stdout",
     "output_type": "stream",
     "text": [
      "Accuracy: 0.22\n",
      "AUC score: 0.7146944306386477\n",
      "\n",
      "               precision    recall  f1-score   support\n",
      "\n",
      "        toxic       0.69      0.89      0.78        97\n",
      " severe_toxic       0.13      0.86      0.22        14\n",
      "      obscene       0.44      0.93      0.59        55\n",
      "       threat       0.03      0.83      0.07         6\n",
      "       insult       0.39      1.00      0.56        49\n",
      "identity_hate       0.21      0.70      0.33        10\n",
      "\n",
      "    micro avg       0.33      0.91      0.48       231\n",
      "    macro avg       0.32      0.87      0.42       231\n",
      " weighted avg       0.50      0.91      0.62       231\n",
      "  samples avg       0.21      0.45      0.27       231\n",
      "\n"
     ]
    }
   ],
   "source": [
    "ZS_BART_accuracy = Accuracy(ZS_BART_preds, ZS_BART_targets)\n",
    "print(f'Accuracy: {ZS_BART_accuracy}')\n",
    "AUC_score = roc_auc_score(ZS_BART_targets.squeeze(), ZS_BART_preds)\n",
    "print(f'AUC score: {AUC_score}\\n')\n",
    "print(classification_report(np.array(ZS_BART_targets).squeeze(1), np.array(ZS_BART_preds), target_names=train_dataloader.dataset.labels(), zero_division=0))"
   ]
  },
  {
   "attachments": {},
   "cell_type": "markdown",
   "metadata": {},
   "source": [
    "<font size=\"6\">**BART**</font> <br>\n",
    "<font size=\"5\">One Shot learning.<br>\n",
    "fine tune classification model with one sample"
   ]
  },
  {
   "cell_type": "code",
   "execution_count": 28,
   "metadata": {},
   "outputs": [
    {
     "name": "stderr",
     "output_type": "stream",
     "text": [
      "Some weights of BartForSequenceClassification were not initialized from the model checkpoint at facebook/bart-large and are newly initialized: ['classification_head.out_proj.weight', 'classification_head.dense.bias', 'classification_head.dense.weight', 'classification_head.out_proj.bias']\n",
      "You should probably TRAIN this model on a down-stream task to be able to use it for predictions and inference.\n"
     ]
    }
   ],
   "source": [
    "from transformers import BartTokenizer, BartForSequenceClassification, BartConfig\n",
    "\n",
    "config = BartConfig.from_pretrained(pretrained_model_name_or_path=\"facebook/bart-large\", num_labels=6)\n",
    "BART_tokenizer_OS = BartTokenizer.from_pretrained(\"facebook/bart-large\")\n",
    "Bart_model_OS = BartForSequenceClassification.from_pretrained(\"facebook/bart-large\", config=config).to(device)"
   ]
  },
  {
   "attachments": {},
   "cell_type": "markdown",
   "metadata": {},
   "source": [
    "<font size=\"6\">**Train the model with one example for one epoch**</font> <br>"
   ]
  },
  {
   "cell_type": "code",
   "execution_count": 29,
   "metadata": {},
   "outputs": [
    {
     "name": "stderr",
     "output_type": "stream",
     "text": [
      "Training process: 100%|██████████| 1/1 [00:00<00:00,  7.09it/s]\n"
     ]
    }
   ],
   "source": [
    "epochs = 1\n",
    "learning_rate = 2e-3\n",
    "loss_func = nn.BCEWithLogitsLoss()\n",
    "optimizer = optim.AdamW(Bart_model_OS.parameters(), lr=learning_rate)\n",
    "max_length = 60\n",
    "\n",
    "for epoch in tqdm(range(epochs), desc='Training process'):\n",
    "    comments, labels = train_dataset_full.__getitem__(6)\n",
    "    inputs = BART_tokenizer_OS(text=comments, return_tensors=\"pt\", padding=True, truncation=True,  max_length=60).to(device)\n",
    "    labels = torch.unsqueeze(torch.tensor(labels, dtype=torch.float32), 0).to(device)\n",
    "\n",
    "    # Forward pass\n",
    "    output = Bart_model_OS(**inputs)\n",
    "    loss = loss_func(output.logits, labels)\n",
    "\n",
    "    # Backward and optimize\n",
    "    optimizer.zero_grad()\n",
    "    loss.backward()\n",
    "    optimizer.step()"
   ]
  },
  {
   "attachments": {},
   "cell_type": "markdown",
   "metadata": {},
   "source": [
    "<font size=\"6\">**Classification function for BART n Shot**</font><br>"
   ]
  },
  {
   "cell_type": "code",
   "execution_count": 11,
   "metadata": {},
   "outputs": [],
   "source": [
    "def Accuracy_BART(preds_list, labels_list):\n",
    "    accuracy = 0\n",
    "    for i in range(len(preds_list)):\n",
    "        accuracy += np.count_nonzero(((preds_list[i]  == labels_list[i]).astype(int).sum(axis=1)) == 6)\n",
    "\n",
    "    accuracy = accuracy / (len(preds_list) * len(preds_list[0]))\n",
    "\n",
    "    return accuracy\n",
    "\n",
    "def classify_nS_BART(model, tokenizer, train_dataloader):\n",
    "    \"\"\"Classify the comments.\n",
    "\n",
    "    Parameters\n",
    "    ----------\n",
    "    model : the model function.\n",
    "        Zero shot model.\n",
    "    train_dataloader : pytorch dataloader\n",
    "        The comments.\n",
    "\n",
    "    Returns\n",
    "    -------\n",
    "    preds : list\n",
    "        Predicted labels array of 0 and 1.\n",
    "    targets : list\n",
    "        True labels array of 0 and 1.\n",
    "    \"\"\"\n",
    "    preds_list = []\n",
    "    targets = []\n",
    "    num_samples = len(train_dataloader)\n",
    "\n",
    "    for i, (comment, labels) in tqdm(enumerate(train_dataloader), total=num_samples):\n",
    "        inputs = tokenizer(text=comment, return_tensors=\"pt\", padding=True, truncation=True,  max_length=60).to(device)\n",
    "        labels = labels.type(torch.float32)\n",
    "        targets.append(labels.numpy())\n",
    "\n",
    "        with torch.no_grad():\n",
    "            test_output = model(**inputs)\n",
    "            \n",
    "        preds = torch.sigmoid(test_output.logits)\n",
    "        preds = (preds > 0.5).float()\n",
    "        preds_list.append(preds.to('cpu').numpy())\n",
    "    \n",
    "    return preds_list, targets"
   ]
  },
  {
   "attachments": {},
   "cell_type": "markdown",
   "metadata": {},
   "source": [
    "<font size=\"6\">**Classify with BART One Shot**</font><br>"
   ]
  },
  {
   "cell_type": "code",
   "execution_count": 31,
   "metadata": {},
   "outputs": [
    {
     "name": "stderr",
     "output_type": "stream",
     "text": [
      "100%|██████████| 200/200 [00:02<00:00, 72.12it/s]\n"
     ]
    }
   ],
   "source": [
    "OS_BART_preds, OS_BART_targets = classify_nS_BART(Bart_model_OS, BART_tokenizer_OS, train_dataloader)"
   ]
  },
  {
   "cell_type": "code",
   "execution_count": 33,
   "metadata": {},
   "outputs": [],
   "source": [
    "# save the results\n",
    "np.save('preds\\OS_BART_preds.npy', OS_BART_preds)\n",
    "np.save('preds\\OS_BART_targets.npy', OS_BART_targets)"
   ]
  },
  {
   "attachments": {},
   "cell_type": "markdown",
   "metadata": {},
   "source": [
    "<font size=\"6\">**Show accuracy, precision, recall and f1 scores**</font><br>"
   ]
  },
  {
   "cell_type": "code",
   "execution_count": 37,
   "metadata": {},
   "outputs": [
    {
     "name": "stdout",
     "output_type": "stream",
     "text": [
      "Accuracy: 0.015\n",
      "AUC score: 0.5\n",
      "\n",
      "               precision    recall  f1-score   support\n",
      "\n",
      "        toxic       0.48      1.00      0.65        96\n",
      " severe_toxic       0.03      1.00      0.05         5\n",
      "      obscene       0.24      1.00      0.39        49\n",
      "       threat       0.00      0.00      0.00         4\n",
      "       insult       0.25      1.00      0.40        50\n",
      "identity_hate       0.00      0.00      0.00         7\n",
      "\n",
      "    micro avg       0.25      0.95      0.40       211\n",
      "    macro avg       0.17      0.67      0.25       211\n",
      " weighted avg       0.34      0.95      0.48       211\n",
      "  samples avg       0.25      0.49      0.31       211\n",
      "\n"
     ]
    }
   ],
   "source": [
    "OS_BART_accuracy = Accuracy_BART(OS_BART_preds, OS_BART_targets)\n",
    "print(f'Accuracy: {OS_BART_accuracy}')\n",
    "y_true = np.array(OS_BART_targets).reshape((-1, 6))\n",
    "y_preds = np.array(OS_BART_preds).reshape((-1, 6))\n",
    "AUC_score = roc_auc_score(y_true, y_preds)\n",
    "print(f'AUC score: {AUC_score}\\n')\n",
    "print(classification_report(np.array(OS_BART_targets).squeeze(1), np.array(OS_BART_preds).squeeze(1), target_names=train_dataloader.dataset.labels(), zero_division=0))"
   ]
  },
  {
   "attachments": {},
   "cell_type": "markdown",
   "metadata": {},
   "source": [
    "<font size=\"6\">**BART**</font> <br>\n",
    "<font size=\"5\">One Shot learning.<br>\n",
    "fine tune classification model with Few samples"
   ]
  },
  {
   "cell_type": "code",
   "execution_count": 15,
   "metadata": {},
   "outputs": [
    {
     "name": "stderr",
     "output_type": "stream",
     "text": [
      "Some weights of BartForSequenceClassification were not initialized from the model checkpoint at facebook/bart-large and are newly initialized: ['classification_head.out_proj.weight', 'classification_head.dense.bias', 'classification_head.out_proj.bias', 'classification_head.dense.weight']\n",
      "You should probably TRAIN this model on a down-stream task to be able to use it for predictions and inference.\n"
     ]
    }
   ],
   "source": [
    "from transformers import BartTokenizer, BartForSequenceClassification, BartConfig\n",
    "\n",
    "config = BartConfig.from_pretrained(pretrained_model_name_or_path=\"facebook/bart-large\", num_labels=6)\n",
    "BART_tokenizer_FS = BartTokenizer.from_pretrained(\"facebook/bart-large\")\n",
    "Bart_model_FS = BartForSequenceClassification.from_pretrained(\"facebook/bart-large\", config=config).to(device)"
   ]
  },
  {
   "attachments": {},
   "cell_type": "markdown",
   "metadata": {},
   "source": [
    "<font size=\"6\">**Find 10 balanced examples indexes**</font> <br>\n"
   ]
  },
  {
   "cell_type": "code",
   "execution_count": 8,
   "metadata": {},
   "outputs": [],
   "source": [
    "FS_num_samples = 10\n",
    "FS_toxic_indices = []\n",
    "FS_non_toxic_indices = []\n",
    "\n",
    "for i in few_shot_indices:\n",
    "    _, labels = train_dataset_full.__getitem__(i)\n",
    "    if len(FS_toxic_indices) < FS_num_samples//2:\n",
    "        if labels.sum() > 0:\n",
    "            FS_toxic_indices.append(i)\n",
    "    \n",
    "    if len(FS_non_toxic_indices) < FS_num_samples//2:\n",
    "        if labels.sum() == 0:\n",
    "            FS_non_toxic_indices.append(i)\n",
    "\n",
    "FS_indices = FS_toxic_indices + FS_non_toxic_indices\n",
    "np.random.shuffle(FS_indices)"
   ]
  },
  {
   "attachments": {},
   "cell_type": "markdown",
   "metadata": {},
   "source": [
    "<font size=\"6\">**Train the model with Few examples for one epoch**</font> <br>"
   ]
  },
  {
   "cell_type": "code",
   "execution_count": 16,
   "metadata": {},
   "outputs": [
    {
     "name": "stderr",
     "output_type": "stream",
     "text": [
      "Training process: 100%|██████████| 1/1 [00:01<00:00,  1.09s/it]\n"
     ]
    }
   ],
   "source": [
    "epochs = 1\n",
    "learning_rate = 2e-3\n",
    "loss_func = nn.BCEWithLogitsLoss()\n",
    "optimizer = optim.AdamW(Bart_model_FS.parameters(), lr=learning_rate)\n",
    "max_length = 60\n",
    "\n",
    "for epoch in tqdm(range(epochs), desc='Training process'):\n",
    "    for i in FS_indices:\n",
    "        comments, labels = train_dataset_full.__getitem__(i)\n",
    "        inputs = BART_tokenizer_FS(text=comments, return_tensors=\"pt\", padding=True, truncation=True,  max_length=60).to(device)\n",
    "        labels = torch.unsqueeze(torch.tensor(labels, dtype=torch.float32), 0).to(device)\n",
    "\n",
    "        # Forward pass\n",
    "        output = Bart_model_FS(**inputs)\n",
    "        loss = loss_func(output.logits, labels)\n",
    "\n",
    "        # Backward and optimize\n",
    "        optimizer.zero_grad()\n",
    "        loss.backward()\n",
    "        optimizer.step()"
   ]
  },
  {
   "attachments": {},
   "cell_type": "markdown",
   "metadata": {},
   "source": [
    "<font size=\"6\">**Classify with BART Few Shot**</font><br>"
   ]
  },
  {
   "cell_type": "code",
   "execution_count": 17,
   "metadata": {},
   "outputs": [
    {
     "name": "stderr",
     "output_type": "stream",
     "text": [
      "100%|██████████| 200/200 [00:02<00:00, 83.82it/s]\n"
     ]
    }
   ],
   "source": [
    "FS_BART_preds, FS_BART_targets = classify_nS_BART(Bart_model_FS, BART_tokenizer_FS, train_dataloader)"
   ]
  },
  {
   "cell_type": "code",
   "execution_count": 19,
   "metadata": {},
   "outputs": [],
   "source": [
    "# save the results\n",
    "np.save('preds\\FS_BART_preds.npy', FS_BART_preds)\n",
    "np.save('preds\\FS_BART_targets.npy', FS_BART_targets)"
   ]
  },
  {
   "attachments": {},
   "cell_type": "markdown",
   "metadata": {},
   "source": [
    "<font size=\"6\">**Show accuracy, precision, recall and f1 scores**</font><br>"
   ]
  },
  {
   "cell_type": "code",
   "execution_count": 18,
   "metadata": {},
   "outputs": [
    {
     "name": "stdout",
     "output_type": "stream",
     "text": [
      "Accuracy: 0.035\n",
      "AUC score: 0.5\n",
      "\n",
      "               precision    recall  f1-score   support\n",
      "\n",
      "        toxic       0.47      1.00      0.64        94\n",
      " severe_toxic       0.00      0.00      0.00        14\n",
      "      obscene       0.00      0.00      0.00        50\n",
      "       threat       0.00      0.00      0.00         3\n",
      "       insult       0.23      1.00      0.38        47\n",
      "identity_hate       0.00      0.00      0.00         7\n",
      "\n",
      "    micro avg       0.35      0.66      0.46       215\n",
      "    macro avg       0.12      0.33      0.17       215\n",
      " weighted avg       0.26      0.66      0.36       215\n",
      "  samples avg       0.35      0.37      0.34       215\n",
      "\n"
     ]
    }
   ],
   "source": [
    "FS_BART_accuracy = Accuracy_BART(FS_BART_preds, FS_BART_targets)\n",
    "print(f'Accuracy: {FS_BART_accuracy}')\n",
    "y_true = np.array(FS_BART_targets).reshape((-1, 6))\n",
    "y_preds = np.array(FS_BART_preds).reshape((-1, 6))\n",
    "AUC_score = roc_auc_score(y_true, y_preds)\n",
    "print(f'AUC score: {AUC_score}\\n')\n",
    "print(classification_report(np.array(FS_BART_targets).squeeze(1), np.array(FS_BART_preds).squeeze(1), target_names=train_dataloader.dataset.labels(), zero_division=0))"
   ]
  },
  {
   "attachments": {},
   "cell_type": "markdown",
   "metadata": {},
   "source": [
    "<font size=\"6\">**Fine Tuning GPT-2**</font><br>"
   ]
  },
  {
   "attachments": {},
   "cell_type": "markdown",
   "metadata": {},
   "source": [
    "<font size=\"5\">Split the data to training, validation and test</font><br>"
   ]
  },
  {
   "cell_type": "code",
   "execution_count": 66,
   "metadata": {},
   "outputs": [
    {
     "name": "stdout",
     "output_type": "stream",
     "text": [
      "Train samples: 111700, Validation samples: 31914, Test samples: 15957\n"
     ]
    }
   ],
   "source": [
    "train_per = 0.7\n",
    "val_per = 0.2\n",
    "test_per = 0.1\n",
    "\n",
    "gpt2_train_dataset, gpt2_val_dataset, gpt2_test_dataset = data.random_split(train_dataset_full, [train_per, val_per, test_per], generator=torch.Generator().manual_seed(42))\n",
    "\n",
    "print(f'Train samples: {len(gpt2_train_dataset)}, Validation samples: {len(gpt2_val_dataset)}, Test samples: {len(gpt2_test_dataset)}')"
   ]
  },
  {
   "attachments": {},
   "cell_type": "markdown",
   "metadata": {},
   "source": [
    "<font size=\"5\">Encapsulate the data into dataloader form</font><br>\n",
    "Batch size is 110.<br>"
   ]
  },
  {
   "cell_type": "code",
   "execution_count": 67,
   "metadata": {},
   "outputs": [],
   "source": [
    "# encapsulate data into dataloader form\n",
    "batch_size = 110\n",
    "gpt2_train_dataloader= data.DataLoader(gpt2_train_dataset, batch_size=batch_size, shuffle=True)\n",
    "gpt2_val_dataloader= data.DataLoader(gpt2_val_dataset, batch_size=batch_size, shuffle=False)\n",
    "gpt2_test_dataloader= data.DataLoader(gpt2_test_dataset, batch_size=batch_size, shuffle=False)\n",
    "\n",
    "labels_ids = train_dataset_full.labels()\n",
    "n_labels = len(labels_ids)"
   ]
  },
  {
   "attachments": {},
   "cell_type": "markdown",
   "metadata": {},
   "source": [
    "<font size=\"5\">Load the GPT-2 model</font><br>\n",
    "Using GPT-2 and classification head."
   ]
  },
  {
   "cell_type": "code",
   "execution_count": 68,
   "metadata": {},
   "outputs": [],
   "source": [
    "from transformers import GPT2Config, GPT2Tokenizer, GPT2ForSequenceClassification, get_linear_schedule_with_warmup"
   ]
  },
  {
   "cell_type": "code",
   "execution_count": 69,
   "metadata": {},
   "outputs": [
    {
     "name": "stderr",
     "output_type": "stream",
     "text": [
      "Some weights of GPT2ForSequenceClassification were not initialized from the model checkpoint at gpt2 and are newly initialized: ['score.weight']\n",
      "You should probably TRAIN this model on a down-stream task to be able to use it for predictions and inference.\n"
     ]
    },
    {
     "data": {
      "text/plain": [
       "GPT2ForSequenceClassification(\n",
       "  (transformer): GPT2Model(\n",
       "    (wte): Embedding(50257, 768)\n",
       "    (wpe): Embedding(1024, 768)\n",
       "    (drop): Dropout(p=0.1, inplace=False)\n",
       "    (h): ModuleList(\n",
       "      (0-11): 12 x GPT2Block(\n",
       "        (ln_1): LayerNorm((768,), eps=1e-05, elementwise_affine=True)\n",
       "        (attn): GPT2Attention(\n",
       "          (c_attn): Conv1D()\n",
       "          (c_proj): Conv1D()\n",
       "          (attn_dropout): Dropout(p=0.1, inplace=False)\n",
       "          (resid_dropout): Dropout(p=0.1, inplace=False)\n",
       "        )\n",
       "        (ln_2): LayerNorm((768,), eps=1e-05, elementwise_affine=True)\n",
       "        (mlp): GPT2MLP(\n",
       "          (c_fc): Conv1D()\n",
       "          (c_proj): Conv1D()\n",
       "          (act): NewGELUActivation()\n",
       "          (dropout): Dropout(p=0.1, inplace=False)\n",
       "        )\n",
       "      )\n",
       "    )\n",
       "    (ln_f): LayerNorm((768,), eps=1e-05, elementwise_affine=True)\n",
       "  )\n",
       "  (score): Linear(in_features=768, out_features=6, bias=False)\n",
       ")"
      ]
     },
     "execution_count": 69,
     "metadata": {},
     "output_type": "execute_result"
    }
   ],
   "source": [
    "# Get model configuration.\n",
    "gpt2_model_config = GPT2Config.from_pretrained(pretrained_model_name_or_path='gpt2', num_labels=n_labels)\n",
    "\n",
    "# Get model's tokenizer.\n",
    "gpt2_tokenizer = GPT2Tokenizer.from_pretrained(pretrained_model_name_or_path='gpt2')\n",
    "# default to left padding\n",
    "gpt2_tokenizer.padding_side = \"left\"\n",
    "# Define PAD Token = EOS Token = 50256\n",
    "gpt2_tokenizer.pad_token = gpt2_tokenizer.eos_token\n",
    "\n",
    "# Get the actual model.\n",
    "gpt2_model = GPT2ForSequenceClassification.from_pretrained(pretrained_model_name_or_path='gpt2', config=gpt2_model_config)\n",
    "\n",
    "# fix model padding token id\n",
    "gpt2_model.config.pad_token_id = gpt2_model.config.eos_token_id\n",
    "\n",
    "# Load model to GPU.\n",
    "gpt2_model.to(device)"
   ]
  },
  {
   "attachments": {},
   "cell_type": "markdown",
   "metadata": {},
   "source": [
    "<font size=\"5\">Define Functions</font> <br>\n",
    "1. Validation function for the training process.<br>\n",
    "2. Accuracy function.\n",
    "3. Test function for the test dataset.<br>"
   ]
  },
  {
   "cell_type": "code",
   "execution_count": 63,
   "metadata": {},
   "outputs": [],
   "source": [
    "def validate(model, tokenizer, loss_func, val_loader, max_length, batch_size):\n",
    "    \"\"\"Validation function for the training process.\n",
    "\n",
    "    Parameters\n",
    "    ----------\n",
    "    model : Transformer\n",
    "        The Transformer model.\n",
    "    tokenizer : tokenizer\n",
    "        Transformer tokenizer.\n",
    "    loss_func : pytorch loss function\n",
    "        The model loss function.\n",
    "    val_loader : pytorch dataloader\n",
    "        The validation dataloader.\n",
    "    batch_size : int\n",
    "        batch size\n",
    "\n",
    "    Returns\n",
    "    -------\n",
    "    val_loss : float\n",
    "        The validation loss.\n",
    "    val_dice_score : float\n",
    "        The validation dice score.\n",
    "    \"\"\"\n",
    "    val_loss = 0\n",
    "    val_accuracy = 0\n",
    "\n",
    "    for i, (comments, labels) in notebook.tqdm(enumerate(val_loader), total=len(val_loader), desc='Validation process'):\n",
    "        inputs = tokenizer(text=comments, return_tensors=\"pt\", padding=True, truncation=True,  max_length=max_length).to(device)\n",
    "        labels = labels.type(torch.float32).to(device)\n",
    "\n",
    "        val_output = model(**inputs)\n",
    "        val_loss += loss_func(val_output.logits, labels).item()\n",
    "         \n",
    "        preds = torch.sigmoid(val_output.logits)\n",
    "        preds = (preds > 0.5).float()\n",
    "        val_accuracy += np.count_nonzero(((preds.to('cpu').numpy()  == labels.to('cpu').numpy()).astype(int).sum(axis=1)) == 6)\n",
    "    \n",
    "    val_loss = val_loss/len(val_loader)\n",
    "    val_accuracy = val_accuracy / (((len(val_loader) - 1) * batch_size) + len(preds))\n",
    "\n",
    "    return val_loss, val_accuracy\n",
    "\n",
    "def Accuracy_gpt2(preds_list, labels_list):\n",
    "    \"\"\"Calculate accuracy.\n",
    "\n",
    "    Parameters\n",
    "    ----------\n",
    "    preds : list\n",
    "        Predicted labels array of 0 and 1.\n",
    "    targets : list\n",
    "        True labels array of 0 and 1.\n",
    "\n",
    "    Returns\n",
    "    -------\n",
    "    accuracy : float\n",
    "        Accuracy.\n",
    "    \"\"\"\n",
    "    accuracy = 0\n",
    "    for i in range(len(preds_list)):\n",
    "        accuracy += np.count_nonzero(((preds_list[i]  == labels_list[i]).astype(int).sum(axis=1)) == 6)\n",
    "\n",
    "    accuracy = accuracy / (((len(preds_list) - 1) * len(preds_list[0])) + len(preds_list[-1]))\n",
    "\n",
    "    return accuracy\n",
    "\n",
    "def test(model, tokenizer, test_loader, max_length):\n",
    "  \"\"\"Test function, calculates and prints accuracy, dice score, recall, precision and f1 score.\n",
    "\n",
    "    Parameters\n",
    "    ----------\n",
    "    model : Transformer\n",
    "        The Transformer model.\n",
    "    tokenizer : tokenizer\n",
    "        Transformer tokenizer.\n",
    "    test_loader : pytorch dataloader\n",
    "        The test dataloader.\n",
    "\n",
    "    Returns\n",
    "    -------\n",
    "    None\n",
    "\n",
    "    \"\"\"\n",
    "  preds_list = []\n",
    "  labels_list = []\n",
    "  output_list = []\n",
    "\n",
    "\n",
    "  for i, (comments, labels) in tqdm(enumerate(test_loader), total=len(test_loader), desc='Test process'):\n",
    "      inputs = tokenizer(text=comments, return_tensors=\"pt\", padding=True, truncation=True,  max_length=max_length).to(device)\n",
    "      labels = labels.type(torch.float32)\n",
    "      labels_list.append(labels.numpy())\n",
    "\n",
    "      with torch.no_grad():\n",
    "          test_output = model(**inputs)\n",
    "\n",
    "      output_list.append(test_output.logits.to('cpu').numpy())  \n",
    "      preds = torch.sigmoid(test_output.logits)\n",
    "      preds = (preds > 0.5).float()\n",
    "      preds_list.append(preds.to('cpu').numpy())\n",
    "\n",
    "  test_accuracy = Accuracy_gpt2(preds_list, labels_list)\n",
    "  print(f'Test Accuracy: {test_accuracy}\\n')\n",
    "\n",
    "  y_true = np.array(labels_list[:-1]).reshape((-1, 6))\n",
    "  y_true = np.append(y_true,labels_list[-1], axis=0)\n",
    "  y_preds = np.array(preds_list[:-1]).reshape((-1, 6))\n",
    "  y_preds =np.append(y_preds,preds_list[-1], axis=0)\n",
    "\n",
    "  outputs = np.array(output_list[:-1]).reshape((-1, 6))\n",
    "  outputs = np.append(outputs,output_list[-1], axis=0)\n",
    "  AUC_score = roc_auc_score(y_true, outputs)\n",
    "  print(f'Test AUC score: {AUC_score}\\n')\n",
    "\n",
    "  print(classification_report(y_true, y_preds, target_names=test_loader.dataset.dataset.labels(), zero_division=0))"
   ]
  },
  {
   "attachments": {},
   "cell_type": "markdown",
   "metadata": {},
   "source": [
    "<font size=\"5\">Setting training number for tracking with Clearml</font><br>\n",
    "I used clearml platform to track of my experiments and document them.<br>\n",
    "I documented the model architecture, configuration and loss and dice score graphs. "
   ]
  },
  {
   "cell_type": "code",
   "execution_count": 8,
   "metadata": {},
   "outputs": [],
   "source": [
    "train_number = 20 # for clearml tracking"
   ]
  },
  {
   "attachments": {},
   "cell_type": "markdown",
   "metadata": {},
   "source": [
    "<font size=\"5\">Performing the training process.</font><br>\n",
    "1. Loss Function: BCEWithLogitsLoss.<br>\n",
    "2. Optimizer: AdamW.<br>\n",
    "3. Initial Learning Rate: 2e-5 and drops with get_linear_schedule_with_warmup.<br>\n",
    "4. Number of epochs: 4.<br>\n",
    "5. Max tokens length: 60.<br><br>\n",
    "\n",
    "I cleared the cell output, because it was too long."
   ]
  },
  {
   "cell_type": "code",
   "execution_count": null,
   "metadata": {},
   "outputs": [],
   "source": [
    "# Add ClearML task\n",
    "train_number += 1\n",
    "task = Task.init(project_name=\"Toxic comment classification\", task_name=f\"GPT-2 fine tuning {train_number}\")\n",
    "\n",
    "# hyperparameters\n",
    "epochs = 4\n",
    "learning_rate = 2e-5\n",
    "loss_func = nn.BCEWithLogitsLoss()\n",
    "optimizer = optim.AdamW(gpt2_model.parameters(), lr=learning_rate)\n",
    "max_length = 60\n",
    "total_steps_sc = len(gpt2_train_dataloader) * epochs\n",
    "# Create the learning rate scheduler.\n",
    "scheduler = get_linear_schedule_with_warmup(optimizer, num_warmup_steps = 0, num_training_steps = total_steps_sc)\n",
    "n_total_steps = len(gpt2_train_dataloader)\n",
    "train_loss= []\n",
    "test_accuracy_counter = 0\n",
    "iterations = 0\n",
    "val_every = 20 # evaluate every 20 iterations\n",
    "gpt2_model.train()\n",
    "\n",
    "# update hyper parameters to ClearML\n",
    "params = {\n",
    "    \"number_of_epochs\": epochs,\n",
    "    \"batch_size\": batch_size,\n",
    "    \"base_lr\": learning_rate,\n",
    "    \"loss_func\": \"BCEWithLogitsLoss\",\n",
    "    \"optimizer\": optimizer.__module__,\n",
    "    \"max_length\": max_length,\n",
    "    \"scheduler\": \"get_linear_schedule_with_warmup\",\n",
    "    \"model\": \"GPT-2\"\n",
    "}\n",
    "params = task.connect(params)\n",
    "\n",
    "# upload model architecture to ClearML\n",
    "output_model = OutputModel(task=task)\n",
    "output_model.update_design(config_dict=gpt2_model.__dict__['_modules'])\n",
    "\n",
    "#starting the training loop\n",
    "for epoch in notebook.tqdm(range(epochs), desc='Training process'):\n",
    "    for i, (comments, labels) in enumerate(gpt2_train_dataloader):\n",
    "        inputs = gpt2_tokenizer(text=comments, return_tensors=\"pt\", padding=True, truncation=True,  max_length=max_length).to(device)\n",
    "        labels = labels.type(torch.float32).to(device)\n",
    "\n",
    "        # Forward pass\n",
    "        output = gpt2_model(**inputs)\n",
    "        loss = loss_func(output.logits, labels)\n",
    "        \n",
    "        # calculate training dice score\n",
    "        with torch.no_grad():\n",
    "            preds = torch.sigmoid(output.logits)\n",
    "            preds = (preds > 0.5).float()\n",
    "            test_accuracy_counter += np.count_nonzero(((preds.to('cpu').numpy()  == labels.to('cpu').numpy()).astype(int).sum(axis=1)) == 6)\n",
    "            iterations += 1\n",
    "\n",
    "        # Backward and optimize\n",
    "        optimizer.zero_grad()\n",
    "        loss.backward()\n",
    "        optimizer.step()\n",
    "\n",
    "        # updating training loss and Accuracy to clearml server\n",
    "        test_accuracy = test_accuracy_counter / (((iterations - 1) * batch_size) + len(preds))\n",
    "        Logger.current_logger().report_scalar(\"Loss\", \"training loss\", iteration=iterations, value=loss.item())\n",
    "        Logger.current_logger().report_scalar(\"Accuracy\",\"training Accuracy\", iteration=iterations, value=test_accuracy)\n",
    "\n",
    "        if i % val_every == 0:\n",
    "            gpt2_model.eval()\n",
    "\n",
    "            # calculate validation loss and Accuracy\n",
    "            with torch.no_grad():\n",
    "                val_loss, val_accuracy = validate(gpt2_model, gpt2_tokenizer, loss_func, gpt2_val_dataloader, max_length, batch_size=batch_size)\n",
    "\n",
    "            # updating validation loss and Accuracy to clearml server\n",
    "            Logger.current_logger().report_scalar(\"Loss\", \"val loss\", iteration=iterations, value=val_loss)\n",
    "            Logger.current_logger().report_scalar(\"Accuracy\",\"val Accuracy\", iteration=iterations, value=val_accuracy)\n",
    "\n",
    "            gpt2_model.train()\n",
    "\n",
    "        learning_rate = optimizer.param_groups[0]['lr']\n",
    "\n",
    "        print (f'Epoch [{epoch+1}/{epochs}], Step [{i+1}/{n_total_steps}], Training Loss: {loss.item():.4f}, Training Accuracy: {test_accuracy:.4f}, Validation Loss: {val_loss:.4f}, Validation Accuracy: {val_accuracy:.4f}, lr = {learning_rate}')\n",
    "    \n",
    "        # Update the learning rate.\n",
    "        scheduler.step()\n",
    "\n",
    "# close ClearML task\n",
    "task.close()\n",
    "\n",
    "print('Finished Training')"
   ]
  },
  {
   "attachments": {},
   "cell_type": "markdown",
   "metadata": {},
   "source": [
    "<font size=\"5\">Training graphs of the model.</font><br>\n",
    "Accuracy and loss graphs including train and validation."
   ]
  },
  {
   "cell_type": "code",
   "execution_count": 73,
   "metadata": {},
   "outputs": [
    {
     "data": {
      "image/png": "[encoded data removed]",
      "text/plain": [
       "<Figure size 1500x2000 with 1 Axes>"
      ]
     },
     "metadata": {},
     "output_type": "display_data"
    },
    {
     "data": {
      "image/png": "[encoded data removed]",
      "text/plain": [
       "<Figure size 1500x2000 with 1 Axes>"
      ]
     },
     "metadata": {},
     "output_type": "display_data"
    }
   ],
   "source": [
    "gpt2_acc_graph = plt.imread('gpt2 acc.png')\n",
    "gpt2_loss_graph = plt.imread('gpt2 loss.png')\n",
    "\n",
    "plt.figure(figsize=(15,20))\n",
    "plt.imshow(gpt2_acc_graph)\n",
    "plt.title('GPT-2 Accuracy graph')\n",
    "plt.axis('off')\n",
    "\n",
    "plt.figure(figsize=(15,20))\n",
    "plt.imshow(gpt2_loss_graph)\n",
    "plt.title('GPT-2 Loss graph')\n",
    "f =plt.axis('off')"
   ]
  },
  {
   "attachments": {},
   "cell_type": "markdown",
   "metadata": {},
   "source": [
    "<font size=\"5\">Test the model with the test dataset.</font><br>"
   ]
  },
  {
   "cell_type": "code",
   "execution_count": 70,
   "metadata": {},
   "outputs": [
    {
     "name": "stderr",
     "output_type": "stream",
     "text": [
      "Test process: 100%|██████████| 146/146 [00:20<00:00,  7.26it/s]"
     ]
    },
    {
     "name": "stdout",
     "output_type": "stream",
     "text": [
      "Test Accuracy: 0.905872031083537\n",
      "\n",
      "Test AUC score: 0.9610818761871411\n",
      "\n",
      "               precision    recall  f1-score   support\n",
      "\n",
      "        toxic       0.75      0.74      0.74      1562\n",
      " severe_toxic       0.50      0.47      0.49       168\n",
      "      obscene       0.78      0.72      0.75       875\n",
      "       threat       0.00      0.00      0.00        33\n",
      "       insult       0.67      0.66      0.67       804\n",
      "identity_hate       0.50      0.01      0.01       133\n",
      "\n",
      "    micro avg       0.73      0.67      0.70      3575\n",
      "    macro avg       0.53      0.43      0.44      3575\n",
      " weighted avg       0.71      0.67      0.68      3575\n",
      "  samples avg       0.06      0.06      0.06      3575\n",
      "\n"
     ]
    },
    {
     "name": "stderr",
     "output_type": "stream",
     "text": [
      "\n"
     ]
    }
   ],
   "source": [
    "gpt2_model.eval()\n",
    "test(gpt2_model, gpt2_tokenizer, gpt2_test_dataloader, max_length=60)"
   ]
  },
  {
   "cell_type": "code",
   "execution_count": 15,
   "metadata": {},
   "outputs": [],
   "source": [
    "# save the model\n",
    "path =  f'models/gpt2_model_{train_number}'\n",
    "gpt2_model.save_pretrained(path, from_pt=True)"
   ]
  }
 ],
 "metadata": {
  "kernelspec": {
   "display_name": "Pytorch_env",
   "language": "python",
   "name": "python3"
  },
  "language_info": {
   "codemirror_mode": {
    "name": "ipython",
    "version": 3
   },
   "file_extension": ".py",
   "mimetype": "text/x-python",
   "name": "python",
   "nbconvert_exporter": "python",
   "pygments_lexer": "ipython3",
   "version": "3.10.9"
  },
  "orig_nbformat": 4
 },
 "nbformat": 4,
 "nbformat_minor": 2
}
